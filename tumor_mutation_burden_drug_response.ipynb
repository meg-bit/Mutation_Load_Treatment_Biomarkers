{
 "cells": [
  {
   "cell_type": "code",
   "execution_count": null,
   "metadata": {},
   "outputs": [],
   "source": [
    "from pathlib import Path\n",
    "import pandas as pd\n",
    "import numpy as np\n",
    "import matplotlib.pyplot as plt\n",
    "import seaborn as sns\n",
    "from scipy.stats import mannwhitneyu\n",
    "from lifelines import CoxPHFitter\n",
    "from lifelines import KaplanMeierFitter"
   ]
  },
  {
   "cell_type": "code",
   "execution_count": 0,
   "metadata": {
    "colab": {},
    "colab_type": "code",
    "id": "U-e13coixG3K"
   },
   "outputs": [],
   "source": [
    "# Set up data folder\n",
    "DATA = Path('/content/drive/My Drive/data')"
   ]
  },
  {
   "cell_type": "markdown",
   "metadata": {
    "colab_type": "text",
    "id": "ijDiwhWvSKzy"
   },
   "source": [
    "## Tumor mutation burden and nivolumab response\n",
    "\n",
    "We will investigate the relationship between pre-treatment tumor mutation burden (TMB) and the response to nivolumab."
   ]
  },
  {
   "cell_type": "code",
   "execution_count": 0,
   "metadata": {
    "colab": {
     "base_uri": "https://localhost:8080/",
     "height": 204
    },
    "colab_type": "code",
    "executionInfo": {
     "elapsed": 400,
     "status": "ok",
     "timestamp": 1575220835851,
     "user": {
      "displayName": "Margaret Y. Paiva",
      "photoUrl": "",
      "userId": "06544974911748493519"
     },
     "user_tz": 300
    },
    "id": "ZbAcB-JrdeOF",
    "outputId": "c00113c0-9d1b-4dfc-e868-d1be46ef5522"
   },
   "outputs": [
    {
     "data": {
      "text/html": [
       "<div>\n",
       "<style scoped>\n",
       "    .dataframe tbody tr th:only-of-type {\n",
       "        vertical-align: middle;\n",
       "    }\n",
       "\n",
       "    .dataframe tbody tr th {\n",
       "        vertical-align: top;\n",
       "    }\n",
       "\n",
       "    .dataframe thead th {\n",
       "        text-align: right;\n",
       "    }\n",
       "</style>\n",
       "<table border=\"1\" class=\"dataframe\">\n",
       "  <thead>\n",
       "    <tr style=\"text-align: right;\">\n",
       "      <th></th>\n",
       "      <th>PatientID</th>\n",
       "      <th>Sample</th>\n",
       "      <th>SampleType</th>\n",
       "      <th>Cohort</th>\n",
       "      <th>SubtypeEZ</th>\n",
       "      <th>TRTGRP</th>\n",
       "      <th>BOR</th>\n",
       "      <th>myBOR</th>\n",
       "      <th>PFS_SOR</th>\n",
       "      <th>OS_SOR</th>\n",
       "      <th>OS</th>\n",
       "      <th>OSWK</th>\n",
       "      <th>IBOR</th>\n",
       "      <th>PFS</th>\n",
       "      <th>PFSWK</th>\n",
       "      <th>myBOR2</th>\n",
       "      <th>myBOR3</th>\n",
       "    </tr>\n",
       "  </thead>\n",
       "  <tbody>\n",
       "    <tr>\n",
       "      <th>0</th>\n",
       "      <td>Pt1</td>\n",
       "      <td>Pt1_pre</td>\n",
       "      <td>pre</td>\n",
       "      <td>NIV3-PROG</td>\n",
       "      <td>NaN</td>\n",
       "      <td>NIV3-PROG</td>\n",
       "      <td>PD</td>\n",
       "      <td>PD</td>\n",
       "      <td>0</td>\n",
       "      <td>0</td>\n",
       "      <td>160</td>\n",
       "      <td>22.857143</td>\n",
       "      <td>PROGRESSION</td>\n",
       "      <td>54</td>\n",
       "      <td>7.714286</td>\n",
       "      <td>PD</td>\n",
       "      <td>SDPD</td>\n",
       "    </tr>\n",
       "    <tr>\n",
       "      <th>1</th>\n",
       "      <td>Pt10</td>\n",
       "      <td>Pt10_pre</td>\n",
       "      <td>pre</td>\n",
       "      <td>NIV3-NAIVE</td>\n",
       "      <td>NF1</td>\n",
       "      <td>NIV3-NAIVE</td>\n",
       "      <td>SD</td>\n",
       "      <td>SD</td>\n",
       "      <td>0</td>\n",
       "      <td>0</td>\n",
       "      <td>256</td>\n",
       "      <td>36.571429</td>\n",
       "      <td>STABLE DISEASE</td>\n",
       "      <td>119</td>\n",
       "      <td>17.000000</td>\n",
       "      <td>PRCRSD</td>\n",
       "      <td>SDPD</td>\n",
       "    </tr>\n",
       "    <tr>\n",
       "      <th>2</th>\n",
       "      <td>Pt100</td>\n",
       "      <td>Pt100_pre</td>\n",
       "      <td>pre</td>\n",
       "      <td>NIV3-PROG</td>\n",
       "      <td>TripleWt</td>\n",
       "      <td>NIV3-PROG</td>\n",
       "      <td>PD</td>\n",
       "      <td>PD</td>\n",
       "      <td>0</td>\n",
       "      <td>0</td>\n",
       "      <td>840</td>\n",
       "      <td>120.000000</td>\n",
       "      <td>PROGRESSION</td>\n",
       "      <td>50</td>\n",
       "      <td>7.142857</td>\n",
       "      <td>PD</td>\n",
       "      <td>SDPD</td>\n",
       "    </tr>\n",
       "    <tr>\n",
       "      <th>3</th>\n",
       "      <td>Pt101</td>\n",
       "      <td>Pt101_pre</td>\n",
       "      <td>pre</td>\n",
       "      <td>NIV3-PROG</td>\n",
       "      <td>TripleWt</td>\n",
       "      <td>NIV3-PROG</td>\n",
       "      <td>PR</td>\n",
       "      <td>PRCR</td>\n",
       "      <td>0</td>\n",
       "      <td>1</td>\n",
       "      <td>834</td>\n",
       "      <td>119.142857</td>\n",
       "      <td>PARTIAL RESPONSE</td>\n",
       "      <td>612</td>\n",
       "      <td>87.428571</td>\n",
       "      <td>PRCRSD</td>\n",
       "      <td>PRCR</td>\n",
       "    </tr>\n",
       "    <tr>\n",
       "      <th>4</th>\n",
       "      <td>Pt102</td>\n",
       "      <td>Pt102_pre</td>\n",
       "      <td>pre</td>\n",
       "      <td>NIV3-NAIVE</td>\n",
       "      <td>RAS</td>\n",
       "      <td>NIV3-NAIVE</td>\n",
       "      <td>SD</td>\n",
       "      <td>SD</td>\n",
       "      <td>0</td>\n",
       "      <td>1</td>\n",
       "      <td>636</td>\n",
       "      <td>90.857143</td>\n",
       "      <td>STABLE DISEASE</td>\n",
       "      <td>112</td>\n",
       "      <td>16.000000</td>\n",
       "      <td>PRCRSD</td>\n",
       "      <td>SDPD</td>\n",
       "    </tr>\n",
       "  </tbody>\n",
       "</table>\n",
       "</div>"
      ],
      "text/plain": [
       "  PatientID     Sample SampleType      Cohort  ...  PFS      PFSWK  myBOR2 myBOR3\n",
       "0       Pt1    Pt1_pre        pre   NIV3-PROG  ...   54   7.714286      PD   SDPD\n",
       "1      Pt10   Pt10_pre        pre  NIV3-NAIVE  ...  119  17.000000  PRCRSD   SDPD\n",
       "2     Pt100  Pt100_pre        pre   NIV3-PROG  ...   50   7.142857      PD   SDPD\n",
       "3     Pt101  Pt101_pre        pre   NIV3-PROG  ...  612  87.428571  PRCRSD   PRCR\n",
       "4     Pt102  Pt102_pre        pre  NIV3-NAIVE  ...  112  16.000000  PRCRSD   SDPD\n",
       "\n",
       "[5 rows x 17 columns]"
      ]
     },
     "execution_count": 14,
     "metadata": {
      "tags": []
     },
     "output_type": "execute_result"
    }
   ],
   "source": [
    "clin_file = DATA / \"bms038_clinical_data.csv\"\n",
    "clin_original = pd.read_csv(clin_file)\n",
    "clin_original.head()"
   ]
  },
  {
   "cell_type": "code",
   "execution_count": 0,
   "metadata": {
    "colab": {
     "base_uri": "https://localhost:8080/",
     "height": 204
    },
    "colab_type": "code",
    "executionInfo": {
     "elapsed": 455,
     "status": "ok",
     "timestamp": 1575220950324,
     "user": {
      "displayName": "Margaret Y. Paiva",
      "photoUrl": "",
      "userId": "06544974911748493519"
     },
     "user_tz": 300
    },
    "id": "LudCHylHdk8Y",
    "outputId": "07ce2337-c133-4f88-b3b8-cbc649767eb3"
   },
   "outputs": [
    {
     "data": {
      "text/html": [
       "<div>\n",
       "<style scoped>\n",
       "    .dataframe tbody tr th:only-of-type {\n",
       "        vertical-align: middle;\n",
       "    }\n",
       "\n",
       "    .dataframe tbody tr th {\n",
       "        vertical-align: top;\n",
       "    }\n",
       "\n",
       "    .dataframe thead th {\n",
       "        text-align: right;\n",
       "    }\n",
       "</style>\n",
       "<table border=\"1\" class=\"dataframe\">\n",
       "  <thead>\n",
       "    <tr style=\"text-align: right;\">\n",
       "      <th></th>\n",
       "      <th>Patient</th>\n",
       "      <th>Hugo Symbol</th>\n",
       "      <th>Chromosome</th>\n",
       "      <th>Start</th>\n",
       "      <th>End</th>\n",
       "      <th>Variant Classification</th>\n",
       "      <th>HGVS_c</th>\n",
       "      <th>HGVS_p</th>\n",
       "      <th>Tcov</th>\n",
       "      <th>Tac</th>\n",
       "      <th>Taf</th>\n",
       "    </tr>\n",
       "  </thead>\n",
       "  <tbody>\n",
       "    <tr>\n",
       "      <th>0</th>\n",
       "      <td>Pt10</td>\n",
       "      <td>MST1L</td>\n",
       "      <td>1</td>\n",
       "      <td>17083776</td>\n",
       "      <td>17083776</td>\n",
       "      <td>missense_variant</td>\n",
       "      <td>c.2021G&gt;T</td>\n",
       "      <td>p.Arg674Leu</td>\n",
       "      <td>232</td>\n",
       "      <td>10</td>\n",
       "      <td>0.043103</td>\n",
       "    </tr>\n",
       "    <tr>\n",
       "      <th>1</th>\n",
       "      <td>Pt10</td>\n",
       "      <td>MST1L</td>\n",
       "      <td>1</td>\n",
       "      <td>17083816</td>\n",
       "      <td>17083816</td>\n",
       "      <td>stop_gained</td>\n",
       "      <td>c.1981C&gt;T</td>\n",
       "      <td>p.Arg661*</td>\n",
       "      <td>316</td>\n",
       "      <td>13</td>\n",
       "      <td>0.041139</td>\n",
       "    </tr>\n",
       "    <tr>\n",
       "      <th>2</th>\n",
       "      <td>Pt10</td>\n",
       "      <td>NRAS</td>\n",
       "      <td>1</td>\n",
       "      <td>115258748</td>\n",
       "      <td>115258748</td>\n",
       "      <td>missense_variant</td>\n",
       "      <td>c.34G&gt;T</td>\n",
       "      <td>p.Gly12Cys</td>\n",
       "      <td>576</td>\n",
       "      <td>491</td>\n",
       "      <td>0.852431</td>\n",
       "    </tr>\n",
       "    <tr>\n",
       "      <th>3</th>\n",
       "      <td>Pt10</td>\n",
       "      <td>DCST2</td>\n",
       "      <td>1</td>\n",
       "      <td>154997000</td>\n",
       "      <td>154997000</td>\n",
       "      <td>missense_variant</td>\n",
       "      <td>c.1690C&gt;T</td>\n",
       "      <td>p.Arg564Trp</td>\n",
       "      <td>340</td>\n",
       "      <td>37</td>\n",
       "      <td>0.108824</td>\n",
       "    </tr>\n",
       "    <tr>\n",
       "      <th>4</th>\n",
       "      <td>Pt10</td>\n",
       "      <td>PAPPA2</td>\n",
       "      <td>1</td>\n",
       "      <td>176525744</td>\n",
       "      <td>176525744</td>\n",
       "      <td>missense_variant</td>\n",
       "      <td>c.286A&gt;C</td>\n",
       "      <td>p.Lys96Gln</td>\n",
       "      <td>664</td>\n",
       "      <td>53</td>\n",
       "      <td>0.079819</td>\n",
       "    </tr>\n",
       "  </tbody>\n",
       "</table>\n",
       "</div>"
      ],
      "text/plain": [
       "  Patient Hugo Symbol Chromosome      Start  ...       HGVS_p Tcov  Tac       Taf\n",
       "0    Pt10       MST1L          1   17083776  ...  p.Arg674Leu  232   10  0.043103\n",
       "1    Pt10       MST1L          1   17083816  ...    p.Arg661*  316   13  0.041139\n",
       "2    Pt10        NRAS          1  115258748  ...   p.Gly12Cys  576  491  0.852431\n",
       "3    Pt10       DCST2          1  154997000  ...  p.Arg564Trp  340   37  0.108824\n",
       "4    Pt10      PAPPA2          1  176525744  ...   p.Lys96Gln  664   53  0.079819\n",
       "\n",
       "[5 rows x 11 columns]"
      ]
     },
     "execution_count": 19,
     "metadata": {
      "tags": []
     },
     "output_type": "execute_result"
    }
   ],
   "source": [
    "mut_file = DATA / \"pre_therapy_nonsynonmous_mutations.csv\"\n",
    "mut_original = pd.read_csv(mut_file)\n",
    "mut_original.head()"
   ]
  },
  {
   "cell_type": "code",
   "execution_count": 0,
   "metadata": {
    "colab": {},
    "colab_type": "code",
    "id": "MjiMr-JHeAKa"
   },
   "outputs": [],
   "source": [
    "overlap_patients = set(clin_original.PatientID) & set(mut_original.Patient) \n",
    "\n",
    "clin = clin_original.loc[clin_original.PatientID.isin(overlap_patients), :]\n",
    "mut = mut_original.loc[mut_original.Patient.isin(overlap_patients), :]"
   ]
  },
  {
   "cell_type": "code",
   "execution_count": 0,
   "metadata": {
    "colab": {
     "base_uri": "https://localhost:8080/",
     "height": 419
    },
    "colab_type": "code",
    "executionInfo": {
     "elapsed": 529,
     "status": "ok",
     "timestamp": 1575220989983,
     "user": {
      "displayName": "Margaret Y. Paiva",
      "photoUrl": "",
      "userId": "06544974911748493519"
     },
     "user_tz": 300
    },
    "id": "yKVoSc3MfLB2",
    "outputId": "1bc6abad-2c36-49d6-85ec-6670c050ba1b"
   },
   "outputs": [
    {
     "data": {
      "text/html": [
       "<div>\n",
       "<style scoped>\n",
       "    .dataframe tbody tr th:only-of-type {\n",
       "        vertical-align: middle;\n",
       "    }\n",
       "\n",
       "    .dataframe tbody tr th {\n",
       "        vertical-align: top;\n",
       "    }\n",
       "\n",
       "    .dataframe thead th {\n",
       "        text-align: right;\n",
       "    }\n",
       "</style>\n",
       "<table border=\"1\" class=\"dataframe\">\n",
       "  <thead>\n",
       "    <tr style=\"text-align: right;\">\n",
       "      <th></th>\n",
       "      <th>PatientID</th>\n",
       "      <th>Sample</th>\n",
       "      <th>SampleType</th>\n",
       "      <th>Cohort</th>\n",
       "      <th>SubtypeEZ</th>\n",
       "      <th>TRTGRP</th>\n",
       "      <th>BOR</th>\n",
       "      <th>myBOR</th>\n",
       "      <th>PFS_SOR</th>\n",
       "      <th>OS_SOR</th>\n",
       "      <th>OS</th>\n",
       "      <th>OSWK</th>\n",
       "      <th>IBOR</th>\n",
       "      <th>PFS</th>\n",
       "      <th>PFSWK</th>\n",
       "      <th>myBOR2</th>\n",
       "      <th>myBOR3</th>\n",
       "    </tr>\n",
       "  </thead>\n",
       "  <tbody>\n",
       "    <tr>\n",
       "      <th>1</th>\n",
       "      <td>Pt10</td>\n",
       "      <td>Pt10_pre</td>\n",
       "      <td>pre</td>\n",
       "      <td>NIV3-NAIVE</td>\n",
       "      <td>NF1</td>\n",
       "      <td>NIV3-NAIVE</td>\n",
       "      <td>SD</td>\n",
       "      <td>SD</td>\n",
       "      <td>0</td>\n",
       "      <td>0</td>\n",
       "      <td>256</td>\n",
       "      <td>36.571429</td>\n",
       "      <td>STABLE DISEASE</td>\n",
       "      <td>119</td>\n",
       "      <td>17.000000</td>\n",
       "      <td>PRCRSD</td>\n",
       "      <td>SDPD</td>\n",
       "    </tr>\n",
       "    <tr>\n",
       "      <th>2</th>\n",
       "      <td>Pt100</td>\n",
       "      <td>Pt100_pre</td>\n",
       "      <td>pre</td>\n",
       "      <td>NIV3-PROG</td>\n",
       "      <td>TripleWt</td>\n",
       "      <td>NIV3-PROG</td>\n",
       "      <td>PD</td>\n",
       "      <td>PD</td>\n",
       "      <td>0</td>\n",
       "      <td>0</td>\n",
       "      <td>840</td>\n",
       "      <td>120.000000</td>\n",
       "      <td>PROGRESSION</td>\n",
       "      <td>50</td>\n",
       "      <td>7.142857</td>\n",
       "      <td>PD</td>\n",
       "      <td>SDPD</td>\n",
       "    </tr>\n",
       "    <tr>\n",
       "      <th>3</th>\n",
       "      <td>Pt101</td>\n",
       "      <td>Pt101_pre</td>\n",
       "      <td>pre</td>\n",
       "      <td>NIV3-PROG</td>\n",
       "      <td>TripleWt</td>\n",
       "      <td>NIV3-PROG</td>\n",
       "      <td>PR</td>\n",
       "      <td>PRCR</td>\n",
       "      <td>0</td>\n",
       "      <td>1</td>\n",
       "      <td>834</td>\n",
       "      <td>119.142857</td>\n",
       "      <td>PARTIAL RESPONSE</td>\n",
       "      <td>612</td>\n",
       "      <td>87.428571</td>\n",
       "      <td>PRCRSD</td>\n",
       "      <td>PRCR</td>\n",
       "    </tr>\n",
       "    <tr>\n",
       "      <th>4</th>\n",
       "      <td>Pt102</td>\n",
       "      <td>Pt102_pre</td>\n",
       "      <td>pre</td>\n",
       "      <td>NIV3-NAIVE</td>\n",
       "      <td>RAS</td>\n",
       "      <td>NIV3-NAIVE</td>\n",
       "      <td>SD</td>\n",
       "      <td>SD</td>\n",
       "      <td>0</td>\n",
       "      <td>1</td>\n",
       "      <td>636</td>\n",
       "      <td>90.857143</td>\n",
       "      <td>STABLE DISEASE</td>\n",
       "      <td>112</td>\n",
       "      <td>16.000000</td>\n",
       "      <td>PRCRSD</td>\n",
       "      <td>SDPD</td>\n",
       "    </tr>\n",
       "    <tr>\n",
       "      <th>5</th>\n",
       "      <td>Pt103</td>\n",
       "      <td>Pt103_pre</td>\n",
       "      <td>pre</td>\n",
       "      <td>NIV3-PROG</td>\n",
       "      <td>TripleWt</td>\n",
       "      <td>NIV3-PROG</td>\n",
       "      <td>PD</td>\n",
       "      <td>PD</td>\n",
       "      <td>0</td>\n",
       "      <td>1</td>\n",
       "      <td>484</td>\n",
       "      <td>69.142857</td>\n",
       "      <td>PROGRESSION</td>\n",
       "      <td>50</td>\n",
       "      <td>7.142857</td>\n",
       "      <td>PD</td>\n",
       "      <td>SDPD</td>\n",
       "    </tr>\n",
       "    <tr>\n",
       "      <th>...</th>\n",
       "      <td>...</td>\n",
       "      <td>...</td>\n",
       "      <td>...</td>\n",
       "      <td>...</td>\n",
       "      <td>...</td>\n",
       "      <td>...</td>\n",
       "      <td>...</td>\n",
       "      <td>...</td>\n",
       "      <td>...</td>\n",
       "      <td>...</td>\n",
       "      <td>...</td>\n",
       "      <td>...</td>\n",
       "      <td>...</td>\n",
       "      <td>...</td>\n",
       "      <td>...</td>\n",
       "      <td>...</td>\n",
       "      <td>...</td>\n",
       "    </tr>\n",
       "    <tr>\n",
       "      <th>68</th>\n",
       "      <td>Pt90</td>\n",
       "      <td>Pt90_pre</td>\n",
       "      <td>pre</td>\n",
       "      <td>NIV3-PROG</td>\n",
       "      <td>TripleWt</td>\n",
       "      <td>NIV3-PROG</td>\n",
       "      <td>PD</td>\n",
       "      <td>PD</td>\n",
       "      <td>0</td>\n",
       "      <td>0</td>\n",
       "      <td>174</td>\n",
       "      <td>24.857143</td>\n",
       "      <td>PROGRESSION</td>\n",
       "      <td>44</td>\n",
       "      <td>6.285714</td>\n",
       "      <td>PD</td>\n",
       "      <td>SDPD</td>\n",
       "    </tr>\n",
       "    <tr>\n",
       "      <th>69</th>\n",
       "      <td>Pt92</td>\n",
       "      <td>Pt92_pre</td>\n",
       "      <td>pre</td>\n",
       "      <td>NIV3-PROG</td>\n",
       "      <td>RAS</td>\n",
       "      <td>NIV3-PROG</td>\n",
       "      <td>SD</td>\n",
       "      <td>SD</td>\n",
       "      <td>0</td>\n",
       "      <td>0</td>\n",
       "      <td>333</td>\n",
       "      <td>47.571429</td>\n",
       "      <td>STABLE DISEASE</td>\n",
       "      <td>190</td>\n",
       "      <td>27.142857</td>\n",
       "      <td>PRCRSD</td>\n",
       "      <td>SDPD</td>\n",
       "    </tr>\n",
       "    <tr>\n",
       "      <th>70</th>\n",
       "      <td>Pt93</td>\n",
       "      <td>Pt93_pre</td>\n",
       "      <td>pre</td>\n",
       "      <td>NIV3-PROG</td>\n",
       "      <td>TripleWt</td>\n",
       "      <td>NIV3-PROG</td>\n",
       "      <td>PD</td>\n",
       "      <td>PD</td>\n",
       "      <td>0</td>\n",
       "      <td>1</td>\n",
       "      <td>849</td>\n",
       "      <td>121.285714</td>\n",
       "      <td>PROGRESSION</td>\n",
       "      <td>51</td>\n",
       "      <td>7.285714</td>\n",
       "      <td>PD</td>\n",
       "      <td>SDPD</td>\n",
       "    </tr>\n",
       "    <tr>\n",
       "      <th>71</th>\n",
       "      <td>Pt94</td>\n",
       "      <td>Pt94_pre</td>\n",
       "      <td>pre</td>\n",
       "      <td>NIV3-NAIVE</td>\n",
       "      <td>BRAF</td>\n",
       "      <td>NIV3-NAIVE</td>\n",
       "      <td>CR</td>\n",
       "      <td>PRCR</td>\n",
       "      <td>1</td>\n",
       "      <td>1</td>\n",
       "      <td>981</td>\n",
       "      <td>140.142857</td>\n",
       "      <td>COMPLETE RESPONSE</td>\n",
       "      <td>729</td>\n",
       "      <td>104.142857</td>\n",
       "      <td>PRCRSD</td>\n",
       "      <td>PRCR</td>\n",
       "    </tr>\n",
       "    <tr>\n",
       "      <th>72</th>\n",
       "      <td>Pt98</td>\n",
       "      <td>Pt98_pre</td>\n",
       "      <td>pre</td>\n",
       "      <td>NIV3-PROG</td>\n",
       "      <td>TripleWt</td>\n",
       "      <td>NIV3-PROG</td>\n",
       "      <td>SD</td>\n",
       "      <td>SD</td>\n",
       "      <td>0</td>\n",
       "      <td>0</td>\n",
       "      <td>747</td>\n",
       "      <td>106.714286</td>\n",
       "      <td>STABLE DISEASE</td>\n",
       "      <td>408</td>\n",
       "      <td>58.285714</td>\n",
       "      <td>PRCRSD</td>\n",
       "      <td>SDPD</td>\n",
       "    </tr>\n",
       "  </tbody>\n",
       "</table>\n",
       "<p>68 rows × 17 columns</p>\n",
       "</div>"
      ],
      "text/plain": [
       "   PatientID     Sample SampleType      Cohort  ...  PFS       PFSWK  myBOR2 myBOR3\n",
       "1       Pt10   Pt10_pre        pre  NIV3-NAIVE  ...  119   17.000000  PRCRSD   SDPD\n",
       "2      Pt100  Pt100_pre        pre   NIV3-PROG  ...   50    7.142857      PD   SDPD\n",
       "3      Pt101  Pt101_pre        pre   NIV3-PROG  ...  612   87.428571  PRCRSD   PRCR\n",
       "4      Pt102  Pt102_pre        pre  NIV3-NAIVE  ...  112   16.000000  PRCRSD   SDPD\n",
       "5      Pt103  Pt103_pre        pre   NIV3-PROG  ...   50    7.142857      PD   SDPD\n",
       "..       ...        ...        ...         ...  ...  ...         ...     ...    ...\n",
       "68      Pt90   Pt90_pre        pre   NIV3-PROG  ...   44    6.285714      PD   SDPD\n",
       "69      Pt92   Pt92_pre        pre   NIV3-PROG  ...  190   27.142857  PRCRSD   SDPD\n",
       "70      Pt93   Pt93_pre        pre   NIV3-PROG  ...   51    7.285714      PD   SDPD\n",
       "71      Pt94   Pt94_pre        pre  NIV3-NAIVE  ...  729  104.142857  PRCRSD   PRCR\n",
       "72      Pt98   Pt98_pre        pre   NIV3-PROG  ...  408   58.285714  PRCRSD   SDPD\n",
       "\n",
       "[68 rows x 17 columns]"
      ]
     },
     "execution_count": 22,
     "metadata": {
      "tags": []
     },
     "output_type": "execute_result"
    }
   ],
   "source": [
    "clin"
   ]
  },
  {
   "cell_type": "code",
   "execution_count": 0,
   "metadata": {
    "colab": {
     "base_uri": "https://localhost:8080/",
     "height": 34
    },
    "colab_type": "code",
    "executionInfo": {
     "elapsed": 428,
     "status": "ok",
     "timestamp": 1575221094185,
     "user": {
      "displayName": "Margaret Y. Paiva",
      "photoUrl": "",
      "userId": "06544974911748493519"
     },
     "user_tz": 300
    },
    "id": "IXwCr3rYfNra",
    "outputId": "0f13b4b7-4d2a-45f9-fdc0-1c4b50570f27"
   },
   "outputs": [
    {
     "data": {
      "text/plain": [
       "68"
      ]
     },
     "execution_count": 24,
     "metadata": {
      "tags": []
     },
     "output_type": "execute_result"
    }
   ],
   "source": [
    "# number of unique patients in mutation data\n",
    "len(set(mut.Patient))"
   ]
  },
  {
   "cell_type": "code",
   "execution_count": 0,
   "metadata": {
    "colab": {
     "base_uri": "https://localhost:8080/",
     "height": 238
    },
    "colab_type": "code",
    "executionInfo": {
     "elapsed": 371,
     "status": "ok",
     "timestamp": 1575221285825,
     "user": {
      "displayName": "Margaret Y. Paiva",
      "photoUrl": "",
      "userId": "06544974911748493519"
     },
     "user_tz": 300
    },
    "id": "BNfrHIGkdpHx",
    "outputId": "5dfd1a4a-936c-41e6-c716-6da035b40b66"
   },
   "outputs": [
    {
     "data": {
      "text/plain": [
       "Patient\n",
       "Pt10      75\n",
       "Pt100      6\n",
       "Pt101     10\n",
       "Pt102    393\n",
       "Pt103     21\n",
       "        ... \n",
       "Pt90     283\n",
       "Pt92     642\n",
       "Pt93       7\n",
       "Pt94     405\n",
       "Pt98      20\n",
       "Length: 68, dtype: int64"
      ]
     },
     "execution_count": 25,
     "metadata": {
      "tags": []
     },
     "output_type": "execute_result"
    }
   ],
   "source": [
    "# tmb: tumor mutation burden\n",
    "tmb = mut.groupby([\"Patient\"]).size()\n",
    "tmb"
   ]
  },
  {
   "cell_type": "code",
   "execution_count": 0,
   "metadata": {
    "colab": {
     "base_uri": "https://localhost:8080/",
     "height": 34
    },
    "colab_type": "code",
    "executionInfo": {
     "elapsed": 661,
     "status": "ok",
     "timestamp": 1575221420844,
     "user": {
      "displayName": "Margaret Y. Paiva",
      "photoUrl": "",
      "userId": "06544974911748493519"
     },
     "user_tz": 300
    },
    "id": "pgmDYUDGgZUd",
    "outputId": "9e7013e7-a407-49f6-ecb7-8ae6afe7e695"
   },
   "outputs": [
    {
     "data": {
      "text/plain": [
       "1"
      ]
     },
     "execution_count": 30,
     "metadata": {
      "tags": []
     },
     "output_type": "execute_result"
    }
   ],
   "source": [
    "tmb.min()"
   ]
  },
  {
   "cell_type": "code",
   "execution_count": 0,
   "metadata": {
    "colab": {
     "base_uri": "https://localhost:8080/",
     "height": 34
    },
    "colab_type": "code",
    "executionInfo": {
     "elapsed": 421,
     "status": "ok",
     "timestamp": 1575221411539,
     "user": {
      "displayName": "Margaret Y. Paiva",
      "photoUrl": "",
      "userId": "06544974911748493519"
     },
     "user_tz": 300
    },
    "id": "QXAC4vtEgcGs",
    "outputId": "fe93c51f-5341-4cf7-c802-cd32265e19d4"
   },
   "outputs": [
    {
     "data": {
      "text/plain": [
       "182.5"
      ]
     },
     "execution_count": 29,
     "metadata": {
      "tags": []
     },
     "output_type": "execute_result"
    }
   ],
   "source": [
    "tmb.median()"
   ]
  },
  {
   "cell_type": "code",
   "execution_count": 0,
   "metadata": {
    "colab": {
     "base_uri": "https://localhost:8080/",
     "height": 34
    },
    "colab_type": "code",
    "executionInfo": {
     "elapsed": 534,
     "status": "ok",
     "timestamp": 1575221431831,
     "user": {
      "displayName": "Margaret Y. Paiva",
      "photoUrl": "",
      "userId": "06544974911748493519"
     },
     "user_tz": 300
    },
    "id": "CLRN0td_g3HM",
    "outputId": "0e21ea8f-2270-4f1d-af8d-46a5730296b4"
   },
   "outputs": [
    {
     "data": {
      "text/plain": [
       "7360"
      ]
     },
     "execution_count": 31,
     "metadata": {
      "tags": []
     },
     "output_type": "execute_result"
    }
   ],
   "source": [
    "tmb.max()"
   ]
  },
  {
   "cell_type": "code",
   "execution_count": 0,
   "metadata": {
    "colab": {
     "base_uri": "https://localhost:8080/",
     "height": 419
    },
    "colab_type": "code",
    "executionInfo": {
     "elapsed": 345,
     "status": "ok",
     "timestamp": 1575223097624,
     "user": {
      "displayName": "Margaret Y. Paiva",
      "photoUrl": "",
      "userId": "06544974911748493519"
     },
     "user_tz": 300
    },
    "id": "VUKRsu7adx4j",
    "outputId": "f0f15529-1e95-4606-e82a-9309796e30fa"
   },
   "outputs": [
    {
     "data": {
      "text/html": [
       "<div>\n",
       "<style scoped>\n",
       "    .dataframe tbody tr th:only-of-type {\n",
       "        vertical-align: middle;\n",
       "    }\n",
       "\n",
       "    .dataframe tbody tr th {\n",
       "        vertical-align: top;\n",
       "    }\n",
       "\n",
       "    .dataframe thead th {\n",
       "        text-align: right;\n",
       "    }\n",
       "</style>\n",
       "<table border=\"1\" class=\"dataframe\">\n",
       "  <thead>\n",
       "    <tr style=\"text-align: right;\">\n",
       "      <th></th>\n",
       "      <th>PatientID</th>\n",
       "      <th>Num_Mut</th>\n",
       "    </tr>\n",
       "  </thead>\n",
       "  <tbody>\n",
       "    <tr>\n",
       "      <th>0</th>\n",
       "      <td>Pt10</td>\n",
       "      <td>75</td>\n",
       "    </tr>\n",
       "    <tr>\n",
       "      <th>1</th>\n",
       "      <td>Pt100</td>\n",
       "      <td>6</td>\n",
       "    </tr>\n",
       "    <tr>\n",
       "      <th>2</th>\n",
       "      <td>Pt101</td>\n",
       "      <td>10</td>\n",
       "    </tr>\n",
       "    <tr>\n",
       "      <th>3</th>\n",
       "      <td>Pt102</td>\n",
       "      <td>393</td>\n",
       "    </tr>\n",
       "    <tr>\n",
       "      <th>4</th>\n",
       "      <td>Pt103</td>\n",
       "      <td>21</td>\n",
       "    </tr>\n",
       "    <tr>\n",
       "      <th>...</th>\n",
       "      <td>...</td>\n",
       "      <td>...</td>\n",
       "    </tr>\n",
       "    <tr>\n",
       "      <th>63</th>\n",
       "      <td>Pt90</td>\n",
       "      <td>283</td>\n",
       "    </tr>\n",
       "    <tr>\n",
       "      <th>64</th>\n",
       "      <td>Pt92</td>\n",
       "      <td>642</td>\n",
       "    </tr>\n",
       "    <tr>\n",
       "      <th>65</th>\n",
       "      <td>Pt93</td>\n",
       "      <td>7</td>\n",
       "    </tr>\n",
       "    <tr>\n",
       "      <th>66</th>\n",
       "      <td>Pt94</td>\n",
       "      <td>405</td>\n",
       "    </tr>\n",
       "    <tr>\n",
       "      <th>67</th>\n",
       "      <td>Pt98</td>\n",
       "      <td>20</td>\n",
       "    </tr>\n",
       "  </tbody>\n",
       "</table>\n",
       "<p>68 rows × 2 columns</p>\n",
       "</div>"
      ],
      "text/plain": [
       "   PatientID  Num_Mut\n",
       "0       Pt10       75\n",
       "1      Pt100        6\n",
       "2      Pt101       10\n",
       "3      Pt102      393\n",
       "4      Pt103       21\n",
       "..       ...      ...\n",
       "63      Pt90      283\n",
       "64      Pt92      642\n",
       "65      Pt93        7\n",
       "66      Pt94      405\n",
       "67      Pt98       20\n",
       "\n",
       "[68 rows x 2 columns]"
      ]
     },
     "execution_count": 57,
     "metadata": {
      "tags": []
     },
     "output_type": "execute_result"
    }
   ],
   "source": [
    "tmb_df = pd.DataFrame(tmb, columns=[\"Num_Mut\"])\n",
    "tmb_df.reset_index(level=0, inplace=True)\n",
    "tmb_df = tmb_df.rename(columns={\"Patient\":\"PatientID\"})\n",
    "tmb_df"
   ]
  },
  {
   "cell_type": "code",
   "execution_count": 0,
   "metadata": {
    "colab": {
     "base_uri": "https://localhost:8080/",
     "height": 419
    },
    "colab_type": "code",
    "executionInfo": {
     "elapsed": 432,
     "status": "ok",
     "timestamp": 1575223296582,
     "user": {
      "displayName": "Margaret Y. Paiva",
      "photoUrl": "",
      "userId": "06544974911748493519"
     },
     "user_tz": 300
    },
    "id": "qGdJhvDclKCr",
    "outputId": "d0d87a3e-ac08-475b-83bc-d349e6119093"
   },
   "outputs": [
    {
     "data": {
      "text/html": [
       "<div>\n",
       "<style scoped>\n",
       "    .dataframe tbody tr th:only-of-type {\n",
       "        vertical-align: middle;\n",
       "    }\n",
       "\n",
       "    .dataframe tbody tr th {\n",
       "        vertical-align: top;\n",
       "    }\n",
       "\n",
       "    .dataframe thead th {\n",
       "        text-align: right;\n",
       "    }\n",
       "</style>\n",
       "<table border=\"1\" class=\"dataframe\">\n",
       "  <thead>\n",
       "    <tr style=\"text-align: right;\">\n",
       "      <th></th>\n",
       "      <th>PatientID</th>\n",
       "      <th>Num_Mut</th>\n",
       "      <th>Sample</th>\n",
       "      <th>SampleType</th>\n",
       "      <th>Cohort</th>\n",
       "      <th>SubtypeEZ</th>\n",
       "      <th>TRTGRP</th>\n",
       "      <th>BOR</th>\n",
       "      <th>myBOR</th>\n",
       "      <th>PFS_SOR</th>\n",
       "      <th>OS_SOR</th>\n",
       "      <th>OS</th>\n",
       "      <th>OSWK</th>\n",
       "      <th>IBOR</th>\n",
       "      <th>PFS</th>\n",
       "      <th>PFSWK</th>\n",
       "      <th>myBOR2</th>\n",
       "      <th>myBOR3</th>\n",
       "      <th>Log10(number of mutations)</th>\n",
       "    </tr>\n",
       "  </thead>\n",
       "  <tbody>\n",
       "    <tr>\n",
       "      <th>0</th>\n",
       "      <td>Pt10</td>\n",
       "      <td>75</td>\n",
       "      <td>Pt10_pre</td>\n",
       "      <td>pre</td>\n",
       "      <td>NIV3-NAIVE</td>\n",
       "      <td>NF1</td>\n",
       "      <td>NIV3-NAIVE</td>\n",
       "      <td>SD</td>\n",
       "      <td>SD</td>\n",
       "      <td>0</td>\n",
       "      <td>0</td>\n",
       "      <td>256</td>\n",
       "      <td>36.571429</td>\n",
       "      <td>STABLE DISEASE</td>\n",
       "      <td>119</td>\n",
       "      <td>17.000000</td>\n",
       "      <td>PRCRSD</td>\n",
       "      <td>SDPD</td>\n",
       "      <td>1.875061</td>\n",
       "    </tr>\n",
       "    <tr>\n",
       "      <th>1</th>\n",
       "      <td>Pt100</td>\n",
       "      <td>6</td>\n",
       "      <td>Pt100_pre</td>\n",
       "      <td>pre</td>\n",
       "      <td>NIV3-PROG</td>\n",
       "      <td>TripleWt</td>\n",
       "      <td>NIV3-PROG</td>\n",
       "      <td>PD</td>\n",
       "      <td>PD</td>\n",
       "      <td>0</td>\n",
       "      <td>0</td>\n",
       "      <td>840</td>\n",
       "      <td>120.000000</td>\n",
       "      <td>PROGRESSION</td>\n",
       "      <td>50</td>\n",
       "      <td>7.142857</td>\n",
       "      <td>PD</td>\n",
       "      <td>SDPD</td>\n",
       "      <td>0.778151</td>\n",
       "    </tr>\n",
       "    <tr>\n",
       "      <th>2</th>\n",
       "      <td>Pt101</td>\n",
       "      <td>10</td>\n",
       "      <td>Pt101_pre</td>\n",
       "      <td>pre</td>\n",
       "      <td>NIV3-PROG</td>\n",
       "      <td>TripleWt</td>\n",
       "      <td>NIV3-PROG</td>\n",
       "      <td>PR</td>\n",
       "      <td>PRCR</td>\n",
       "      <td>0</td>\n",
       "      <td>1</td>\n",
       "      <td>834</td>\n",
       "      <td>119.142857</td>\n",
       "      <td>PARTIAL RESPONSE</td>\n",
       "      <td>612</td>\n",
       "      <td>87.428571</td>\n",
       "      <td>PRCRSD</td>\n",
       "      <td>PRCR</td>\n",
       "      <td>1.000000</td>\n",
       "    </tr>\n",
       "    <tr>\n",
       "      <th>3</th>\n",
       "      <td>Pt102</td>\n",
       "      <td>393</td>\n",
       "      <td>Pt102_pre</td>\n",
       "      <td>pre</td>\n",
       "      <td>NIV3-NAIVE</td>\n",
       "      <td>RAS</td>\n",
       "      <td>NIV3-NAIVE</td>\n",
       "      <td>SD</td>\n",
       "      <td>SD</td>\n",
       "      <td>0</td>\n",
       "      <td>1</td>\n",
       "      <td>636</td>\n",
       "      <td>90.857143</td>\n",
       "      <td>STABLE DISEASE</td>\n",
       "      <td>112</td>\n",
       "      <td>16.000000</td>\n",
       "      <td>PRCRSD</td>\n",
       "      <td>SDPD</td>\n",
       "      <td>2.594393</td>\n",
       "    </tr>\n",
       "    <tr>\n",
       "      <th>4</th>\n",
       "      <td>Pt103</td>\n",
       "      <td>21</td>\n",
       "      <td>Pt103_pre</td>\n",
       "      <td>pre</td>\n",
       "      <td>NIV3-PROG</td>\n",
       "      <td>TripleWt</td>\n",
       "      <td>NIV3-PROG</td>\n",
       "      <td>PD</td>\n",
       "      <td>PD</td>\n",
       "      <td>0</td>\n",
       "      <td>1</td>\n",
       "      <td>484</td>\n",
       "      <td>69.142857</td>\n",
       "      <td>PROGRESSION</td>\n",
       "      <td>50</td>\n",
       "      <td>7.142857</td>\n",
       "      <td>PD</td>\n",
       "      <td>SDPD</td>\n",
       "      <td>1.322219</td>\n",
       "    </tr>\n",
       "    <tr>\n",
       "      <th>...</th>\n",
       "      <td>...</td>\n",
       "      <td>...</td>\n",
       "      <td>...</td>\n",
       "      <td>...</td>\n",
       "      <td>...</td>\n",
       "      <td>...</td>\n",
       "      <td>...</td>\n",
       "      <td>...</td>\n",
       "      <td>...</td>\n",
       "      <td>...</td>\n",
       "      <td>...</td>\n",
       "      <td>...</td>\n",
       "      <td>...</td>\n",
       "      <td>...</td>\n",
       "      <td>...</td>\n",
       "      <td>...</td>\n",
       "      <td>...</td>\n",
       "      <td>...</td>\n",
       "      <td>...</td>\n",
       "    </tr>\n",
       "    <tr>\n",
       "      <th>63</th>\n",
       "      <td>Pt90</td>\n",
       "      <td>283</td>\n",
       "      <td>Pt90_pre</td>\n",
       "      <td>pre</td>\n",
       "      <td>NIV3-PROG</td>\n",
       "      <td>TripleWt</td>\n",
       "      <td>NIV3-PROG</td>\n",
       "      <td>PD</td>\n",
       "      <td>PD</td>\n",
       "      <td>0</td>\n",
       "      <td>0</td>\n",
       "      <td>174</td>\n",
       "      <td>24.857143</td>\n",
       "      <td>PROGRESSION</td>\n",
       "      <td>44</td>\n",
       "      <td>6.285714</td>\n",
       "      <td>PD</td>\n",
       "      <td>SDPD</td>\n",
       "      <td>2.451786</td>\n",
       "    </tr>\n",
       "    <tr>\n",
       "      <th>64</th>\n",
       "      <td>Pt92</td>\n",
       "      <td>642</td>\n",
       "      <td>Pt92_pre</td>\n",
       "      <td>pre</td>\n",
       "      <td>NIV3-PROG</td>\n",
       "      <td>RAS</td>\n",
       "      <td>NIV3-PROG</td>\n",
       "      <td>SD</td>\n",
       "      <td>SD</td>\n",
       "      <td>0</td>\n",
       "      <td>0</td>\n",
       "      <td>333</td>\n",
       "      <td>47.571429</td>\n",
       "      <td>STABLE DISEASE</td>\n",
       "      <td>190</td>\n",
       "      <td>27.142857</td>\n",
       "      <td>PRCRSD</td>\n",
       "      <td>SDPD</td>\n",
       "      <td>2.807535</td>\n",
       "    </tr>\n",
       "    <tr>\n",
       "      <th>65</th>\n",
       "      <td>Pt93</td>\n",
       "      <td>7</td>\n",
       "      <td>Pt93_pre</td>\n",
       "      <td>pre</td>\n",
       "      <td>NIV3-PROG</td>\n",
       "      <td>TripleWt</td>\n",
       "      <td>NIV3-PROG</td>\n",
       "      <td>PD</td>\n",
       "      <td>PD</td>\n",
       "      <td>0</td>\n",
       "      <td>1</td>\n",
       "      <td>849</td>\n",
       "      <td>121.285714</td>\n",
       "      <td>PROGRESSION</td>\n",
       "      <td>51</td>\n",
       "      <td>7.285714</td>\n",
       "      <td>PD</td>\n",
       "      <td>SDPD</td>\n",
       "      <td>0.845098</td>\n",
       "    </tr>\n",
       "    <tr>\n",
       "      <th>66</th>\n",
       "      <td>Pt94</td>\n",
       "      <td>405</td>\n",
       "      <td>Pt94_pre</td>\n",
       "      <td>pre</td>\n",
       "      <td>NIV3-NAIVE</td>\n",
       "      <td>BRAF</td>\n",
       "      <td>NIV3-NAIVE</td>\n",
       "      <td>CR</td>\n",
       "      <td>PRCR</td>\n",
       "      <td>1</td>\n",
       "      <td>1</td>\n",
       "      <td>981</td>\n",
       "      <td>140.142857</td>\n",
       "      <td>COMPLETE RESPONSE</td>\n",
       "      <td>729</td>\n",
       "      <td>104.142857</td>\n",
       "      <td>PRCRSD</td>\n",
       "      <td>PRCR</td>\n",
       "      <td>2.607455</td>\n",
       "    </tr>\n",
       "    <tr>\n",
       "      <th>67</th>\n",
       "      <td>Pt98</td>\n",
       "      <td>20</td>\n",
       "      <td>Pt98_pre</td>\n",
       "      <td>pre</td>\n",
       "      <td>NIV3-PROG</td>\n",
       "      <td>TripleWt</td>\n",
       "      <td>NIV3-PROG</td>\n",
       "      <td>SD</td>\n",
       "      <td>SD</td>\n",
       "      <td>0</td>\n",
       "      <td>0</td>\n",
       "      <td>747</td>\n",
       "      <td>106.714286</td>\n",
       "      <td>STABLE DISEASE</td>\n",
       "      <td>408</td>\n",
       "      <td>58.285714</td>\n",
       "      <td>PRCRSD</td>\n",
       "      <td>SDPD</td>\n",
       "      <td>1.301030</td>\n",
       "    </tr>\n",
       "  </tbody>\n",
       "</table>\n",
       "<p>68 rows × 19 columns</p>\n",
       "</div>"
      ],
      "text/plain": [
       "   PatientID  Num_Mut     Sample  ...  myBOR2 myBOR3 Log10(number of mutations)\n",
       "0       Pt10       75   Pt10_pre  ...  PRCRSD   SDPD                   1.875061\n",
       "1      Pt100        6  Pt100_pre  ...      PD   SDPD                   0.778151\n",
       "2      Pt101       10  Pt101_pre  ...  PRCRSD   PRCR                   1.000000\n",
       "3      Pt102      393  Pt102_pre  ...  PRCRSD   SDPD                   2.594393\n",
       "4      Pt103       21  Pt103_pre  ...      PD   SDPD                   1.322219\n",
       "..       ...      ...        ...  ...     ...    ...                        ...\n",
       "63      Pt90      283   Pt90_pre  ...      PD   SDPD                   2.451786\n",
       "64      Pt92      642   Pt92_pre  ...  PRCRSD   SDPD                   2.807535\n",
       "65      Pt93        7   Pt93_pre  ...      PD   SDPD                   0.845098\n",
       "66      Pt94      405   Pt94_pre  ...  PRCRSD   PRCR                   2.607455\n",
       "67      Pt98       20   Pt98_pre  ...  PRCRSD   SDPD                   1.301030\n",
       "\n",
       "[68 rows x 19 columns]"
      ]
     },
     "execution_count": 60,
     "metadata": {
      "tags": []
     },
     "output_type": "execute_result"
    }
   ],
   "source": [
    "# get response data by merge it with clinical data\n",
    "pd1 = pd.merge(tmb_df, clin, on=\"PatientID\")\n",
    "pd1[\"Log10(number of mutations)\"] = np.log10(pd1.Num_Mut)\n",
    "pd1"
   ]
  },
  {
   "cell_type": "code",
   "execution_count": 0,
   "metadata": {
    "colab": {
     "base_uri": "https://localhost:8080/",
     "height": 514
    },
    "colab_type": "code",
    "executionInfo": {
     "elapsed": 1075,
     "status": "ok",
     "timestamp": 1575223562984,
     "user": {
      "displayName": "Margaret Y. Paiva",
      "photoUrl": "",
      "userId": "06544974911748493519"
     },
     "user_tz": 300
    },
    "id": "9cDhmbdOjXn1",
    "outputId": "c3e7414b-86ef-4b99-def2-7ed4041a3dc0"
   },
   "outputs": [
    {
     "data": {
      "text/plain": [
       "Text(0, 0.5, 'Log10(number of mutations)')"
      ]
     },
     "execution_count": 67,
     "metadata": {
      "tags": []
     },
     "output_type": "execute_result"
    },
    {
     "data": {
      "image/png": "[encoded data removed]",
      "text/plain": [
       "<Figure size 864x576 with 1 Axes>"
      ]
     },
     "metadata": {
      "tags": []
     },
     "output_type": "display_data"
    }
   ],
   "source": [
    "# a boxplot with x-axis indicating different response groups (BOR)\n",
    "# and y-axis as the Log10 transformed number of mutations\n",
    "fig, axarr = plt.subplots(1, 1)\n",
    "fig.set_size_inches(12, 8)\n",
    "sns.boxplot(x=\"BOR\", y=\"Log10(number of mutations)\", data=pd1, \n",
    "            order=[\"NE\", \"PD\", \"SD\", \"PR\", \"CR\"], fliersize=0, ax=axarr)\n",
    "sns.swarmplot(x=\"BOR\", y=\"Log10(number of mutations)\", data=pd1, \n",
    "              order=[\"NE\", \"PD\", \"SD\", \"PR\", \"CR\"], color=\".2\", alpha=0.5, ax=axarr)\n",
    "axarr.set_ylabel(\"Log10(number of mutations)\")"
   ]
  },
  {
   "cell_type": "markdown",
   "metadata": {
    "colab_type": "text",
    "id": "MugCiAt5d0oo"
   },
   "source": [
    "Compare the TMBs between patients with partial or complete response (`PR`, `CR`) and patients with stable disease or progression (`SD`, `PD`)."
   ]
  },
  {
   "cell_type": "code",
   "execution_count": 0,
   "metadata": {
    "colab": {
     "base_uri": "https://localhost:8080/",
     "height": 34
    },
    "colab_type": "code",
    "executionInfo": {
     "elapsed": 391,
     "status": "ok",
     "timestamp": 1575224198140,
     "user": {
      "displayName": "Margaret Y. Paiva",
      "photoUrl": "",
      "userId": "06544974911748493519"
     },
     "user_tz": 300
    },
    "id": "awj09rHLd29c",
    "outputId": "f05177fc-370a-4420-8175-87c7d1f6357f"
   },
   "outputs": [
    {
     "data": {
      "text/plain": [
       "MannwhitneyuResult(statistic=298.5, pvalue=0.11833637016018267)"
      ]
     },
     "execution_count": 69,
     "metadata": {
      "tags": []
     },
     "output_type": "execute_result"
    }
   ],
   "source": [
    "mannwhitneyu(pd1.loc[pd1.BOR.isin([\"PD\", \"SD\"]), \"Num_Mut\"],\n",
    "             pd1.loc[pd1.BOR.isin([\"PR\", \"CR\"]), \"Num_Mut\"])"
   ]
  },
  {
   "cell_type": "markdown",
   "metadata": {
    "colab_type": "text",
    "id": "CaRS8hSYPOOC"
   },
   "source": [
    "## Tumor mutation burden and overall survival in Ipilimumab-Naive patients\n",
    "\n",
    "Reference: [Riaz _et al._](https://doi.org/10.1016/j.cell.2017.09.028)"
   ]
  },
  {
   "cell_type": "code",
   "execution_count": 0,
   "metadata": {
    "colab": {
     "base_uri": "https://localhost:8080/",
     "height": 34
    },
    "colab_type": "code",
    "executionInfo": {
     "elapsed": 423,
     "status": "ok",
     "timestamp": 1575233771546,
     "user": {
      "displayName": "Margaret Y. Paiva",
      "photoUrl": "",
      "userId": "06544974911748493519"
     },
     "user_tz": 300
    },
    "id": "d1v4un2DeB8A",
    "outputId": "14232784-1fd8-4b45-dc11-2c5b20a2defc"
   },
   "outputs": [
    {
     "data": {
      "text/plain": [
       "(33, 17)"
      ]
     },
     "execution_count": 71,
     "metadata": {
      "tags": []
     },
     "output_type": "execute_result"
    }
   ],
   "source": [
    "# Create a subset of clinical data and mutation data containing only patients\n",
    "# who have never received ipilimumab (Cohort == NIV3-NAIVE)\n",
    "clin_naive = clin.loc[clin.Cohort.isin(['NIV3-NAIVE']), :]\n",
    "clin_naive.shape"
   ]
  },
  {
   "cell_type": "code",
   "execution_count": 0,
   "metadata": {
    "colab": {
     "base_uri": "https://localhost:8080/",
     "height": 34
    },
    "colab_type": "code",
    "executionInfo": {
     "elapsed": 433,
     "status": "ok",
     "timestamp": 1575234150798,
     "user": {
      "displayName": "Margaret Y. Paiva",
      "photoUrl": "",
      "userId": "06544974911748493519"
     },
     "user_tz": 300
    },
    "id": "72DnGS4RQJkL",
    "outputId": "9cafff6e-2752-4b37-c91b-b1a59d761300"
   },
   "outputs": [
    {
     "data": {
      "text/plain": [
       "33"
      ]
     },
     "execution_count": 74,
     "metadata": {
      "tags": []
     },
     "output_type": "execute_result"
    }
   ],
   "source": [
    "mut_naive = mut.loc[mut.Patient.isin(clin_naive.PatientID), :]\n",
    "len(set(mut_naive.Patient))"
   ]
  },
  {
   "cell_type": "code",
   "execution_count": 0,
   "metadata": {
    "colab": {
     "base_uri": "https://localhost:8080/",
     "height": 34
    },
    "colab_type": "code",
    "executionInfo": {
     "elapsed": 495,
     "status": "ok",
     "timestamp": 1575234474740,
     "user": {
      "displayName": "Margaret Y. Paiva",
      "photoUrl": "",
      "userId": "06544974911748493519"
     },
     "user_tz": 300
    },
    "id": "z4yzyq5-eHBh",
    "outputId": "d750da54-3686-451d-d315-f9de43b9b23d"
   },
   "outputs": [
    {
     "data": {
      "text/plain": [
       "33"
      ]
     },
     "execution_count": 77,
     "metadata": {
      "tags": []
     },
     "output_type": "execute_result"
    }
   ],
   "source": [
    "# Fit a Cox model in the ipilimumab-naive patients using log10-transformed\n",
    "# tumor mutation burden as the single variable, and overall survival as\n",
    "# the target variable.\n",
    "\n",
    "# Calculate tumor mutation burden first\n",
    "tmb_naive = mut_naive.groupby([\"Patient\"]).size()\n",
    "len(tmb_naive)"
   ]
  },
  {
   "cell_type": "code",
   "execution_count": 0,
   "metadata": {
    "colab": {
     "base_uri": "https://localhost:8080/",
     "height": 204
    },
    "colab_type": "code",
    "executionInfo": {
     "elapsed": 468,
     "status": "ok",
     "timestamp": 1575234585409,
     "user": {
      "displayName": "Margaret Y. Paiva",
      "photoUrl": "",
      "userId": "06544974911748493519"
     },
     "user_tz": 300
    },
    "id": "NPP_IYVGSp9R",
    "outputId": "04ba7754-daa2-4ea9-fa8e-8cec5fbb9c7b"
   },
   "outputs": [
    {
     "data": {
      "text/html": [
       "<div>\n",
       "<style scoped>\n",
       "    .dataframe tbody tr th:only-of-type {\n",
       "        vertical-align: middle;\n",
       "    }\n",
       "\n",
       "    .dataframe tbody tr th {\n",
       "        vertical-align: top;\n",
       "    }\n",
       "\n",
       "    .dataframe thead th {\n",
       "        text-align: right;\n",
       "    }\n",
       "</style>\n",
       "<table border=\"1\" class=\"dataframe\">\n",
       "  <thead>\n",
       "    <tr style=\"text-align: right;\">\n",
       "      <th></th>\n",
       "      <th>PatientID</th>\n",
       "      <th>Num_Mut</th>\n",
       "    </tr>\n",
       "  </thead>\n",
       "  <tbody>\n",
       "    <tr>\n",
       "      <th>0</th>\n",
       "      <td>Pt10</td>\n",
       "      <td>75</td>\n",
       "    </tr>\n",
       "    <tr>\n",
       "      <th>1</th>\n",
       "      <td>Pt102</td>\n",
       "      <td>393</td>\n",
       "    </tr>\n",
       "    <tr>\n",
       "      <th>2</th>\n",
       "      <td>Pt11</td>\n",
       "      <td>106</td>\n",
       "    </tr>\n",
       "    <tr>\n",
       "      <th>3</th>\n",
       "      <td>Pt13</td>\n",
       "      <td>171</td>\n",
       "    </tr>\n",
       "    <tr>\n",
       "      <th>4</th>\n",
       "      <td>Pt18</td>\n",
       "      <td>217</td>\n",
       "    </tr>\n",
       "  </tbody>\n",
       "</table>\n",
       "</div>"
      ],
      "text/plain": [
       "  PatientID  Num_Mut\n",
       "0      Pt10       75\n",
       "1     Pt102      393\n",
       "2      Pt11      106\n",
       "3      Pt13      171\n",
       "4      Pt18      217"
      ]
     },
     "execution_count": 80,
     "metadata": {
      "tags": []
     },
     "output_type": "execute_result"
    }
   ],
   "source": [
    "tmb_naive_df = pd.DataFrame(tmb_naive, columns=[\"Num_Mut\"])\n",
    "tmb_naive_df.reset_index(level=0, inplace=True)\n",
    "tmb_naive_df = tmb_naive_df.rename(columns={\"Patient\":\"PatientID\"})\n",
    "tmb_naive_df.head()"
   ]
  },
  {
   "cell_type": "code",
   "execution_count": 0,
   "metadata": {
    "colab": {
     "base_uri": "https://localhost:8080/",
     "height": 204
    },
    "colab_type": "code",
    "executionInfo": {
     "elapsed": 365,
     "status": "ok",
     "timestamp": 1575235767331,
     "user": {
      "displayName": "Margaret Y. Paiva",
      "photoUrl": "",
      "userId": "06544974911748493519"
     },
     "user_tz": 300
    },
    "id": "q6OdN-RpTFFq",
    "outputId": "c0fa762c-ce64-4fa1-fb9e-536424739762"
   },
   "outputs": [
    {
     "data": {
      "text/html": [
       "<div>\n",
       "<style scoped>\n",
       "    .dataframe tbody tr th:only-of-type {\n",
       "        vertical-align: middle;\n",
       "    }\n",
       "\n",
       "    .dataframe tbody tr th {\n",
       "        vertical-align: top;\n",
       "    }\n",
       "\n",
       "    .dataframe thead th {\n",
       "        text-align: right;\n",
       "    }\n",
       "</style>\n",
       "<table border=\"1\" class=\"dataframe\">\n",
       "  <thead>\n",
       "    <tr style=\"text-align: right;\">\n",
       "      <th></th>\n",
       "      <th>PatientID</th>\n",
       "      <th>Num_Mut</th>\n",
       "      <th>Sample</th>\n",
       "      <th>SampleType</th>\n",
       "      <th>Cohort</th>\n",
       "      <th>SubtypeEZ</th>\n",
       "      <th>TRTGRP</th>\n",
       "      <th>BOR</th>\n",
       "      <th>myBOR</th>\n",
       "      <th>PFS_SOR</th>\n",
       "      <th>OS_SOR</th>\n",
       "      <th>OS</th>\n",
       "      <th>OSWK</th>\n",
       "      <th>IBOR</th>\n",
       "      <th>PFS</th>\n",
       "      <th>PFSWK</th>\n",
       "      <th>myBOR2</th>\n",
       "      <th>myBOR3</th>\n",
       "      <th>log10_transformed_TMB</th>\n",
       "      <th>OS_event</th>\n",
       "    </tr>\n",
       "  </thead>\n",
       "  <tbody>\n",
       "    <tr>\n",
       "      <th>0</th>\n",
       "      <td>Pt10</td>\n",
       "      <td>75</td>\n",
       "      <td>Pt10_pre</td>\n",
       "      <td>pre</td>\n",
       "      <td>NIV3-NAIVE</td>\n",
       "      <td>NF1</td>\n",
       "      <td>NIV3-NAIVE</td>\n",
       "      <td>SD</td>\n",
       "      <td>SD</td>\n",
       "      <td>0</td>\n",
       "      <td>0</td>\n",
       "      <td>256</td>\n",
       "      <td>36.571429</td>\n",
       "      <td>STABLE DISEASE</td>\n",
       "      <td>119</td>\n",
       "      <td>17.000000</td>\n",
       "      <td>PRCRSD</td>\n",
       "      <td>SDPD</td>\n",
       "      <td>1.875061</td>\n",
       "      <td>1</td>\n",
       "    </tr>\n",
       "    <tr>\n",
       "      <th>1</th>\n",
       "      <td>Pt102</td>\n",
       "      <td>393</td>\n",
       "      <td>Pt102_pre</td>\n",
       "      <td>pre</td>\n",
       "      <td>NIV3-NAIVE</td>\n",
       "      <td>RAS</td>\n",
       "      <td>NIV3-NAIVE</td>\n",
       "      <td>SD</td>\n",
       "      <td>SD</td>\n",
       "      <td>0</td>\n",
       "      <td>1</td>\n",
       "      <td>636</td>\n",
       "      <td>90.857143</td>\n",
       "      <td>STABLE DISEASE</td>\n",
       "      <td>112</td>\n",
       "      <td>16.000000</td>\n",
       "      <td>PRCRSD</td>\n",
       "      <td>SDPD</td>\n",
       "      <td>2.594393</td>\n",
       "      <td>0</td>\n",
       "    </tr>\n",
       "    <tr>\n",
       "      <th>2</th>\n",
       "      <td>Pt11</td>\n",
       "      <td>106</td>\n",
       "      <td>Pt11_pre</td>\n",
       "      <td>pre</td>\n",
       "      <td>NIV3-NAIVE</td>\n",
       "      <td>BRAF</td>\n",
       "      <td>NIV3-NAIVE</td>\n",
       "      <td>PD</td>\n",
       "      <td>PD</td>\n",
       "      <td>0</td>\n",
       "      <td>0</td>\n",
       "      <td>837</td>\n",
       "      <td>119.571429</td>\n",
       "      <td>PROGRESSION</td>\n",
       "      <td>59</td>\n",
       "      <td>8.428571</td>\n",
       "      <td>PD</td>\n",
       "      <td>SDPD</td>\n",
       "      <td>2.025306</td>\n",
       "      <td>1</td>\n",
       "    </tr>\n",
       "    <tr>\n",
       "      <th>3</th>\n",
       "      <td>Pt13</td>\n",
       "      <td>171</td>\n",
       "      <td>Pt13_pre</td>\n",
       "      <td>pre</td>\n",
       "      <td>NIV3-NAIVE</td>\n",
       "      <td>BRAF</td>\n",
       "      <td>NIV3-NAIVE</td>\n",
       "      <td>PD</td>\n",
       "      <td>PD</td>\n",
       "      <td>0</td>\n",
       "      <td>0</td>\n",
       "      <td>280</td>\n",
       "      <td>40.000000</td>\n",
       "      <td>PROGRESSION</td>\n",
       "      <td>62</td>\n",
       "      <td>8.857143</td>\n",
       "      <td>PD</td>\n",
       "      <td>SDPD</td>\n",
       "      <td>2.232996</td>\n",
       "      <td>1</td>\n",
       "    </tr>\n",
       "    <tr>\n",
       "      <th>4</th>\n",
       "      <td>Pt18</td>\n",
       "      <td>217</td>\n",
       "      <td>Pt18_pre</td>\n",
       "      <td>pre</td>\n",
       "      <td>NIV3-NAIVE</td>\n",
       "      <td>BRAF</td>\n",
       "      <td>NIV3-NAIVE</td>\n",
       "      <td>PR</td>\n",
       "      <td>PRCR</td>\n",
       "      <td>0</td>\n",
       "      <td>1</td>\n",
       "      <td>1073</td>\n",
       "      <td>153.285714</td>\n",
       "      <td>NaN</td>\n",
       "      <td>519</td>\n",
       "      <td>74.142857</td>\n",
       "      <td>PRCRSD</td>\n",
       "      <td>PRCR</td>\n",
       "      <td>2.336460</td>\n",
       "      <td>0</td>\n",
       "    </tr>\n",
       "  </tbody>\n",
       "</table>\n",
       "</div>"
      ],
      "text/plain": [
       "  PatientID  Num_Mut     Sample  ... myBOR3 log10_transformed_TMB OS_event\n",
       "0      Pt10       75   Pt10_pre  ...   SDPD              1.875061        1\n",
       "1     Pt102      393  Pt102_pre  ...   SDPD              2.594393        0\n",
       "2      Pt11      106   Pt11_pre  ...   SDPD              2.025306        1\n",
       "3      Pt13      171   Pt13_pre  ...   SDPD              2.232996        1\n",
       "4      Pt18      217   Pt18_pre  ...   PRCR              2.336460        0\n",
       "\n",
       "[5 rows x 20 columns]"
      ]
     },
     "execution_count": 89,
     "metadata": {
      "tags": []
     },
     "output_type": "execute_result"
    }
   ],
   "source": [
    "pfs = pd.merge(tmb_naive_df, clin_naive, on=\"PatientID\")\n",
    "pfs[\"log10_transformed_TMB\"] = np.log10(pfs.Num_Mut)\n",
    "pfs[\"OS_event\"] = 1-pfs['OS_SOR']\n",
    "pfs.head()"
   ]
  },
  {
   "cell_type": "code",
   "execution_count": 0,
   "metadata": {
    "colab": {
     "base_uri": "https://localhost:8080/",
     "height": 34
    },
    "colab_type": "code",
    "executionInfo": {
     "elapsed": 438,
     "status": "ok",
     "timestamp": 1575235773117,
     "user": {
      "displayName": "Margaret Y. Paiva",
      "photoUrl": "",
      "userId": "06544974911748493519"
     },
     "user_tz": 300
    },
    "id": "DhJWX2gIXlKu",
    "outputId": "1d0dc658-5304-4e36-8504-f442c7da6a1c"
   },
   "outputs": [
    {
     "data": {
      "text/plain": [
       "(33, 20)"
      ]
     },
     "execution_count": 90,
     "metadata": {
      "tags": []
     },
     "output_type": "execute_result"
    }
   ],
   "source": [
    "pfs.shape"
   ]
  },
  {
   "cell_type": "code",
   "execution_count": 0,
   "metadata": {
    "colab": {
     "base_uri": "https://localhost:8080/",
     "height": 235
    },
    "colab_type": "code",
    "executionInfo": {
     "elapsed": 505,
     "status": "ok",
     "timestamp": 1575235660380,
     "user": {
      "displayName": "Margaret Y. Paiva",
      "photoUrl": "",
      "userId": "06544974911748493519"
     },
     "user_tz": 300
    },
    "id": "yq1w7-e6W7a7",
    "outputId": "97b7b1da-fa69-42a2-a6d0-19e9a35f201c"
   },
   "outputs": [
    {
     "data": {
      "text/html": [
       "<div>\n",
       "<style scoped>\n",
       "    .dataframe tbody tr th:only-of-type {\n",
       "        vertical-align: middle;\n",
       "    }\n",
       "\n",
       "    .dataframe tbody tr th {\n",
       "        vertical-align: top;\n",
       "    }\n",
       "\n",
       "    .dataframe thead th {\n",
       "        text-align: right;\n",
       "    }\n",
       "</style>\n",
       "<table border=\"1\" class=\"dataframe\">\n",
       "  <thead>\n",
       "    <tr style=\"text-align: right;\">\n",
       "      <th></th>\n",
       "      <th>OS</th>\n",
       "      <th>OS_event</th>\n",
       "      <th>log10_transformed_TMB</th>\n",
       "    </tr>\n",
       "    <tr>\n",
       "      <th>PatientID</th>\n",
       "      <th></th>\n",
       "      <th></th>\n",
       "      <th></th>\n",
       "    </tr>\n",
       "  </thead>\n",
       "  <tbody>\n",
       "    <tr>\n",
       "      <th>Pt10</th>\n",
       "      <td>256</td>\n",
       "      <td>1</td>\n",
       "      <td>1.875061</td>\n",
       "    </tr>\n",
       "    <tr>\n",
       "      <th>Pt102</th>\n",
       "      <td>636</td>\n",
       "      <td>0</td>\n",
       "      <td>2.594393</td>\n",
       "    </tr>\n",
       "    <tr>\n",
       "      <th>Pt11</th>\n",
       "      <td>837</td>\n",
       "      <td>1</td>\n",
       "      <td>2.025306</td>\n",
       "    </tr>\n",
       "    <tr>\n",
       "      <th>Pt13</th>\n",
       "      <td>280</td>\n",
       "      <td>1</td>\n",
       "      <td>2.232996</td>\n",
       "    </tr>\n",
       "    <tr>\n",
       "      <th>Pt18</th>\n",
       "      <td>1073</td>\n",
       "      <td>0</td>\n",
       "      <td>2.336460</td>\n",
       "    </tr>\n",
       "  </tbody>\n",
       "</table>\n",
       "</div>"
      ],
      "text/plain": [
       "             OS  OS_event  log10_transformed_TMB\n",
       "PatientID                                       \n",
       "Pt10        256         1               1.875061\n",
       "Pt102       636         0               2.594393\n",
       "Pt11        837         1               2.025306\n",
       "Pt13        280         1               2.232996\n",
       "Pt18       1073         0               2.336460"
      ]
     },
     "execution_count": 87,
     "metadata": {
      "tags": []
     },
     "output_type": "execute_result"
    }
   ],
   "source": [
    "mat = pfs[[\"PatientID\", \"OS\", \"OS_event\", \"log10_transformed_TMB\"]].copy()\n",
    "mat.set_index(\"PatientID\", inplace=True)\n",
    "mat.head()"
   ]
  },
  {
   "cell_type": "code",
   "execution_count": 0,
   "metadata": {
    "colab": {
     "base_uri": "https://localhost:8080/",
     "height": 34
    },
    "colab_type": "code",
    "executionInfo": {
     "elapsed": 313,
     "status": "ok",
     "timestamp": 1575235787682,
     "user": {
      "displayName": "Margaret Y. Paiva",
      "photoUrl": "",
      "userId": "06544974911748493519"
     },
     "user_tz": 300
    },
    "id": "SyPQ181hXoJM",
    "outputId": "bed946cc-96de-4188-8d9e-f69279474699"
   },
   "outputs": [
    {
     "data": {
      "text/plain": [
       "(33, 3)"
      ]
     },
     "execution_count": 91,
     "metadata": {
      "tags": []
     },
     "output_type": "execute_result"
    }
   ],
   "source": [
    "mat.shape"
   ]
  },
  {
   "cell_type": "code",
   "execution_count": 0,
   "metadata": {
    "colab": {
     "base_uri": "https://localhost:8080/",
     "height": 80
    },
    "colab_type": "code",
    "executionInfo": {
     "elapsed": 512,
     "status": "ok",
     "timestamp": 1575239726002,
     "user": {
      "displayName": "Margaret Y. Paiva",
      "photoUrl": "",
      "userId": "06544974911748493519"
     },
     "user_tz": 300
    },
    "id": "CIA2sEyNUMYg",
    "outputId": "f48f8290-9dd9-4a47-9e3b-e803d20628d4"
   },
   "outputs": [
    {
     "data": {
      "text/html": [
       "<div>\n",
       "<style scoped>\n",
       "    .dataframe tbody tr th:only-of-type {\n",
       "        vertical-align: middle;\n",
       "    }\n",
       "\n",
       "    .dataframe tbody tr th {\n",
       "        vertical-align: top;\n",
       "    }\n",
       "\n",
       "    .dataframe thead th {\n",
       "        text-align: right;\n",
       "    }\n",
       "</style>\n",
       "<table border=\"1\" class=\"dataframe\">\n",
       "  <thead>\n",
       "    <tr style=\"text-align: right;\">\n",
       "      <th></th>\n",
       "      <th>coef</th>\n",
       "      <th>exp(coef)</th>\n",
       "      <th>se(coef)</th>\n",
       "      <th>coef lower 95%</th>\n",
       "      <th>coef upper 95%</th>\n",
       "      <th>exp(coef) lower 95%</th>\n",
       "      <th>exp(coef) upper 95%</th>\n",
       "      <th>z</th>\n",
       "      <th>p</th>\n",
       "      <th>-log2(p)</th>\n",
       "    </tr>\n",
       "  </thead>\n",
       "  <tbody>\n",
       "    <tr>\n",
       "      <th>log10_transformed_TMB</th>\n",
       "      <td>-0.62363</td>\n",
       "      <td>0.535995</td>\n",
       "      <td>0.381198</td>\n",
       "      <td>-1.370765</td>\n",
       "      <td>0.123505</td>\n",
       "      <td>0.253913</td>\n",
       "      <td>1.131456</td>\n",
       "      <td>-1.635971</td>\n",
       "      <td>0.101846</td>\n",
       "      <td>3.295545</td>\n",
       "    </tr>\n",
       "  </tbody>\n",
       "</table>\n",
       "</div>"
      ],
      "text/plain": [
       "                          coef  exp(coef)  ...         p  -log2(p)\n",
       "log10_transformed_TMB -0.62363   0.535995  ...  0.101846  3.295545\n",
       "\n",
       "[1 rows x 10 columns]"
      ]
     },
     "execution_count": 92,
     "metadata": {
      "tags": []
     },
     "output_type": "execute_result"
    }
   ],
   "source": [
    "cph = CoxPHFitter()\n",
    "cph.fit(mat, duration_col='OS', event_col='OS_event')\n",
    "cph.summary"
   ]
  },
  {
   "cell_type": "markdown",
   "metadata": {
    "colab_type": "text",
    "id": "l3sSgyvneMfe"
   },
   "source": [
    "Finally, use a Kaplan-Meier curve to compare two groups of patients: patients with high mutation burden (number of mutations >= 100 as defined in the Riaz paper), and patients with low mutation burden (number of mutations < 100)."
   ]
  },
  {
   "cell_type": "code",
   "execution_count": 0,
   "metadata": {
    "colab": {
     "base_uri": "https://localhost:8080/",
     "height": 323
    },
    "colab_type": "code",
    "executionInfo": {
     "elapsed": 601,
     "status": "ok",
     "timestamp": 1575242756619,
     "user": {
      "displayName": "Margaret Y. Paiva",
      "photoUrl": "",
      "userId": "06544974911748493519"
     },
     "user_tz": 300
    },
    "id": "r4sCAIQkeO0E",
    "outputId": "0de4260c-6b2e-4df9-e09c-b5e22c059524"
   },
   "outputs": [
    {
     "data": {
      "text/plain": [
       "<matplotlib.axes._subplots.AxesSubplot at 0x7fc4553f6da0>"
      ]
     },
     "execution_count": 96,
     "metadata": {
      "tags": []
     },
     "output_type": "execute_result"
    },
    {
     "data": {
      "image/png": "[encoded data removed]",
      "text/plain": [
       "<Figure size 480x320 with 1 Axes>"
      ]
     },
     "metadata": {
      "tags": []
     },
     "output_type": "display_data"
    }
   ],
   "source": [
    "high_idx = pfs.Num_Mut>=100\n",
    "\n",
    "fig, ax = plt.subplots(dpi=80)\n",
    "kmf = KaplanMeierFitter()\n",
    "kmf.fit(pfs.OS[high_idx], pfs.OS_event[high_idx], label='Patients with >=100 mutations')\n",
    "kmf.plot(ax=ax)\n",
    "kmf.fit(pfs.OS[~high_idx], pfs.OS_event[~high_idx], label='Patients with <100 mutations')\n",
    "kmf.plot(ax=ax)"
   ]
  }
 ],
 "metadata": {
  "colab": {
   "collapsed_sections": [],
   "name": "HW4_Margaret.ipynb",
   "provenance": [],
   "toc_visible": true
  },
  "kernelspec": {
   "display_name": "Python 3",
   "language": "python",
   "name": "python3"
  },
  "language_info": {
   "codemirror_mode": {
    "name": "ipython",
    "version": 3
   },
   "file_extension": ".py",
   "mimetype": "text/x-python",
   "name": "python",
   "nbconvert_exporter": "python",
   "pygments_lexer": "ipython3",
   "version": "3.7.4"
  }
 },
 "nbformat": 4,
 "nbformat_minor": 1
}
