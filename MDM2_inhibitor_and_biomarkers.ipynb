{
 "cells": [
  {
   "cell_type": "code",
   "execution_count": null,
   "metadata": {},
   "outputs": [],
   "source": [
    "from pathlib import Path\n",
    "import pandas as pd\n",
    "import numpy as np\n",
    "import matplotlib.pyplot as plt\n",
    "import seaborn as sns\n",
    "from scipy.stats import mannwhitneyu"
   ]
  },
  {
   "cell_type": "code",
   "execution_count": null,
   "metadata": {
    "id": "KV82mpIIVAeE"
   },
   "outputs": [],
   "source": [
    "# Set up data folder\n",
    "DATA = Path('/content/drive/My Drive/data')"
   ]
  },
  {
   "cell_type": "markdown",
   "metadata": {
    "id": "s42kCeeb4XOT"
   },
   "source": [
    "## MDM2 inhibitor and MDM2/TP53 mutations\n",
    "\n",
    "Select only the drug data which has good sigmoid fit."
   ]
  },
  {
   "cell_type": "code",
   "execution_count": null,
   "metadata": {
    "colab": {
     "base_uri": "https://localhost:8080/",
     "height": 287
    },
    "executionInfo": {
     "elapsed": 572,
     "status": "ok",
     "timestamp": 1572719412655,
     "user": {
      "displayName": "Margaret Y. Paiva",
      "photoUrl": "",
      "userId": "06544974911748493519"
     },
     "user_tz": 240
    },
    "id": "P4IaYN6O3kEg",
    "outputId": "ec18612f-1c52-46a1-b49a-11d9ec021a4c"
   },
   "outputs": [
    {
     "data": {
      "text/html": [
       "<div>\n",
       "<style scoped>\n",
       "    .dataframe tbody tr th:only-of-type {\n",
       "        vertical-align: middle;\n",
       "    }\n",
       "\n",
       "    .dataframe tbody tr th {\n",
       "        vertical-align: top;\n",
       "    }\n",
       "\n",
       "    .dataframe thead th {\n",
       "        text-align: right;\n",
       "    }\n",
       "</style>\n",
       "<table border=\"1\" class=\"dataframe\">\n",
       "  <thead>\n",
       "    <tr style=\"text-align: right;\">\n",
       "      <th></th>\n",
       "      <th>CCLE Cell Line Name</th>\n",
       "      <th>Primary Cell Line Name</th>\n",
       "      <th>Compound</th>\n",
       "      <th>Target</th>\n",
       "      <th>Doses (uM)</th>\n",
       "      <th>Activity Data (median)</th>\n",
       "      <th>Activity SD</th>\n",
       "      <th>Num Data</th>\n",
       "      <th>FitType</th>\n",
       "      <th>EC50 (uM)</th>\n",
       "      <th>IC50 (uM)</th>\n",
       "      <th>Amax</th>\n",
       "      <th>ActArea</th>\n",
       "    </tr>\n",
       "  </thead>\n",
       "  <tbody>\n",
       "    <tr>\n",
       "      <th>0</th>\n",
       "      <td>1321N1_CENTRAL_NERVOUS_SYSTEM</td>\n",
       "      <td>1321N1</td>\n",
       "      <td>AEW541</td>\n",
       "      <td>IGF1R</td>\n",
       "      <td>.0025,.0080,.025,.080,.25,.80,2.53,8</td>\n",
       "      <td>8.67,11.0,2.16,.27,-10,-13,-26,-43</td>\n",
       "      <td>3.31,3.72,5.36,4.67,13.1,.18,2.42,7.51</td>\n",
       "      <td>8</td>\n",
       "      <td>Sigmoid</td>\n",
       "      <td>8.717774</td>\n",
       "      <td>8.000000</td>\n",
       "      <td>-42.558014</td>\n",
       "      <td>0.7124</td>\n",
       "    </tr>\n",
       "    <tr>\n",
       "      <th>1</th>\n",
       "      <td>22RV1_PROSTATE</td>\n",
       "      <td>22Rv1</td>\n",
       "      <td>AEW541</td>\n",
       "      <td>IGF1R</td>\n",
       "      <td>.0025,.0080,.025,.080,.25,.80,2.53,8</td>\n",
       "      <td>.94,12.5,-14,4.16,-25,-32,-52,-71</td>\n",
       "      <td>1.95,13.3,6.98,21.8,16.0,18.8,4.84,7.93</td>\n",
       "      <td>8</td>\n",
       "      <td>Sigmoid</td>\n",
       "      <td>8.165164</td>\n",
       "      <td>2.329924</td>\n",
       "      <td>-71.589340</td>\n",
       "      <td>1.6723</td>\n",
       "    </tr>\n",
       "    <tr>\n",
       "      <th>2</th>\n",
       "      <td>42MGBA_CENTRAL_NERVOUS_SYSTEM</td>\n",
       "      <td>42-MG-BA</td>\n",
       "      <td>AEW541</td>\n",
       "      <td>IGF1R</td>\n",
       "      <td>.0025,.0080,.025,.080,.25,.80,2.53,8</td>\n",
       "      <td>8.91,8.39,-3.5,12.4,-.55,-6.2,-48,-63</td>\n",
       "      <td>13.7,7.70,11.1,6.43,24.0,9.57,9.57,10.4</td>\n",
       "      <td>8</td>\n",
       "      <td>Sigmoid</td>\n",
       "      <td>1.514508</td>\n",
       "      <td>2.682130</td>\n",
       "      <td>-63.491371</td>\n",
       "      <td>1.1852</td>\n",
       "    </tr>\n",
       "    <tr>\n",
       "      <th>3</th>\n",
       "      <td>5637_URINARY_TRACT</td>\n",
       "      <td>5637</td>\n",
       "      <td>AEW541</td>\n",
       "      <td>IGF1R</td>\n",
       "      <td>.0025,.0080,.025,.080,.25,.80,2.53,8</td>\n",
       "      <td>2.15,9.91,-3.5,.056,-2.1,-14,-30,-62</td>\n",
       "      <td>4.05,9.75,12.7,4.36,11.0,10.0,24.6,.14</td>\n",
       "      <td>8</td>\n",
       "      <td>Sigmoid</td>\n",
       "      <td>8.006595</td>\n",
       "      <td>5.002314</td>\n",
       "      <td>-62.352776</td>\n",
       "      <td>0.9948</td>\n",
       "    </tr>\n",
       "    <tr>\n",
       "      <th>4</th>\n",
       "      <td>639V_URINARY_TRACT</td>\n",
       "      <td>639-V</td>\n",
       "      <td>AEW541</td>\n",
       "      <td>IGF1R</td>\n",
       "      <td>.0025,.0080,.025,.080,.25,.80,2.53,8</td>\n",
       "      <td>11.8,-7.3,-9.4,-15,-11,-21,-53,-50</td>\n",
       "      <td>.95,5.67,11.1,.68,31.6,22.3,1.45,3.08</td>\n",
       "      <td>8</td>\n",
       "      <td>Sigmoid</td>\n",
       "      <td>0.931196</td>\n",
       "      <td>1.736181</td>\n",
       "      <td>-51.959808</td>\n",
       "      <td>1.5436</td>\n",
       "    </tr>\n",
       "  </tbody>\n",
       "</table>\n",
       "</div>"
      ],
      "text/plain": [
       "             CCLE Cell Line Name Primary Cell Line Name  ...       Amax ActArea\n",
       "0  1321N1_CENTRAL_NERVOUS_SYSTEM                 1321N1  ... -42.558014  0.7124\n",
       "1                 22RV1_PROSTATE                  22Rv1  ... -71.589340  1.6723\n",
       "2  42MGBA_CENTRAL_NERVOUS_SYSTEM               42-MG-BA  ... -63.491371  1.1852\n",
       "3             5637_URINARY_TRACT                   5637  ... -62.352776  0.9948\n",
       "4             639V_URINARY_TRACT                  639-V  ... -51.959808  1.5436\n",
       "\n",
       "[5 rows x 13 columns]"
      ]
     },
     "execution_count": 41,
     "metadata": {
      "tags": []
     },
     "output_type": "execute_result"
    }
   ],
   "source": [
    "pharm = pd.read_csv(DATA / \"CCLE_NP24.2009_Drug_data_2015.02.24.csv\")\n",
    "pharm.head()"
   ]
  },
  {
   "cell_type": "code",
   "execution_count": null,
   "metadata": {
    "id": "q57XrA8LVaet"
   },
   "outputs": [],
   "source": [
    "# pharm.shape"
   ]
  },
  {
   "cell_type": "code",
   "execution_count": null,
   "metadata": {
    "colab": {
     "base_uri": "https://localhost:8080/",
     "height": 531
    },
    "executionInfo": {
     "elapsed": 986,
     "status": "ok",
     "timestamp": 1572719434696,
     "user": {
      "displayName": "Margaret Y. Paiva",
      "photoUrl": "",
      "userId": "06544974911748493519"
     },
     "user_tz": 240
    },
    "id": "drDuXNt0-fXi",
    "outputId": "98a68fd6-4c82-48c7-e507-b0f1d27794a4"
   },
   "outputs": [
    {
     "data": {
      "text/html": [
       "<div>\n",
       "<style scoped>\n",
       "    .dataframe tbody tr th:only-of-type {\n",
       "        vertical-align: middle;\n",
       "    }\n",
       "\n",
       "    .dataframe tbody tr th {\n",
       "        vertical-align: top;\n",
       "    }\n",
       "\n",
       "    .dataframe thead th {\n",
       "        text-align: right;\n",
       "    }\n",
       "</style>\n",
       "<table border=\"1\" class=\"dataframe\">\n",
       "  <thead>\n",
       "    <tr style=\"text-align: right;\">\n",
       "      <th></th>\n",
       "      <th>CCLE Cell Line Name</th>\n",
       "      <th>Primary Cell Line Name</th>\n",
       "      <th>Compound</th>\n",
       "      <th>Target</th>\n",
       "      <th>Doses (uM)</th>\n",
       "      <th>Activity Data (median)</th>\n",
       "      <th>Activity SD</th>\n",
       "      <th>Num Data</th>\n",
       "      <th>FitType</th>\n",
       "      <th>EC50 (uM)</th>\n",
       "      <th>IC50 (uM)</th>\n",
       "      <th>Amax</th>\n",
       "      <th>ActArea</th>\n",
       "    </tr>\n",
       "  </thead>\n",
       "  <tbody>\n",
       "    <tr>\n",
       "      <th>2434</th>\n",
       "      <td>22RV1_PROSTATE</td>\n",
       "      <td>22Rv1</td>\n",
       "      <td>Nutlin-3</td>\n",
       "      <td>MDM2</td>\n",
       "      <td>.0025,.0080,.025,.080,.25,.80,2.53,8</td>\n",
       "      <td>-9.7,-11,-9.0,10.4,-2.3,-2.2,.26,-38</td>\n",
       "      <td>8.68,10.8,18.5,11.8,9.38,17.4,13.9,3.25</td>\n",
       "      <td>8</td>\n",
       "      <td>Sigmoid</td>\n",
       "      <td>7.660393</td>\n",
       "      <td>8.000000</td>\n",
       "      <td>-38.178085</td>\n",
       "      <td>0.7904</td>\n",
       "    </tr>\n",
       "    <tr>\n",
       "      <th>2438</th>\n",
       "      <td>697_HAEMATOPOIETIC_AND_LYMPHOID_TISSUE</td>\n",
       "      <td>697</td>\n",
       "      <td>Nutlin-3</td>\n",
       "      <td>MDM2</td>\n",
       "      <td>.0025,.0080,.025,.080,.25,.80,2.53,8</td>\n",
       "      <td>2.75,-13,-15,13.2,-17,-13,-71,-94</td>\n",
       "      <td>25.9,9.18,6.04,6.06,22.5,5.67,2.98,.91</td>\n",
       "      <td>8</td>\n",
       "      <td>Sigmoid</td>\n",
       "      <td>1.931175</td>\n",
       "      <td>1.890524</td>\n",
       "      <td>-93.854889</td>\n",
       "      <td>2.7720</td>\n",
       "    </tr>\n",
       "    <tr>\n",
       "      <th>2439</th>\n",
       "      <td>769P_KIDNEY</td>\n",
       "      <td>769-P</td>\n",
       "      <td>Nutlin-3</td>\n",
       "      <td>MDM2</td>\n",
       "      <td>.0025,.025,.080,.25,.80,2.53,8</td>\n",
       "      <td>-1.9,.18,-5.3,3.90,6.93,-11,-53</td>\n",
       "      <td>.15,6.89,.98,9.63,8.11,24.5,3.05</td>\n",
       "      <td>7</td>\n",
       "      <td>Sigmoid</td>\n",
       "      <td>3.253213</td>\n",
       "      <td>5.591302</td>\n",
       "      <td>-52.759350</td>\n",
       "      <td>0.7115</td>\n",
       "    </tr>\n",
       "    <tr>\n",
       "      <th>2443</th>\n",
       "      <td>8MGBA_CENTRAL_NERVOUS_SYSTEM</td>\n",
       "      <td>8-MG-BA</td>\n",
       "      <td>Nutlin-3</td>\n",
       "      <td>MDM2</td>\n",
       "      <td>.0025,.0080,.025,.080,.25,.80,2.53,8</td>\n",
       "      <td>-27,-5.8,-.11,-2.7,14.1,21.1,-21,-31</td>\n",
       "      <td>30.8,.84,14.6,15.5,9.62,8.70,.81,5.67</td>\n",
       "      <td>8</td>\n",
       "      <td>Sigmoid</td>\n",
       "      <td>2.164914</td>\n",
       "      <td>8.000000</td>\n",
       "      <td>-31.357655</td>\n",
       "      <td>0.8426</td>\n",
       "    </tr>\n",
       "    <tr>\n",
       "      <th>2444</th>\n",
       "      <td>A172_CENTRAL_NERVOUS_SYSTEM</td>\n",
       "      <td>A172</td>\n",
       "      <td>Nutlin-3</td>\n",
       "      <td>MDM2</td>\n",
       "      <td>.0025,.0080,.025,.080,.25,.80,2.53,8</td>\n",
       "      <td>-1.7,-6.0,1.23,-2.8,-3.8,-5.6,-11,-28</td>\n",
       "      <td>3.06,6.86,8.66,2.42,8.39,14.8,13.4,9.02</td>\n",
       "      <td>8</td>\n",
       "      <td>Sigmoid</td>\n",
       "      <td>8.390720</td>\n",
       "      <td>8.000000</td>\n",
       "      <td>-28.074141</td>\n",
       "      <td>0.2102</td>\n",
       "    </tr>\n",
       "    <tr>\n",
       "      <th>...</th>\n",
       "      <td>...</td>\n",
       "      <td>...</td>\n",
       "      <td>...</td>\n",
       "      <td>...</td>\n",
       "      <td>...</td>\n",
       "      <td>...</td>\n",
       "      <td>...</td>\n",
       "      <td>...</td>\n",
       "      <td>...</td>\n",
       "      <td>...</td>\n",
       "      <td>...</td>\n",
       "      <td>...</td>\n",
       "      <td>...</td>\n",
       "    </tr>\n",
       "    <tr>\n",
       "      <th>2919</th>\n",
       "      <td>U87MG_CENTRAL_NERVOUS_SYSTEM</td>\n",
       "      <td>U-87 MG</td>\n",
       "      <td>Nutlin-3</td>\n",
       "      <td>MDM2</td>\n",
       "      <td>.0025,.0080,.025,.080,.25,.80,2.53,8</td>\n",
       "      <td>8.06,10.8,-5.1,-.98,-1.1,.56,-12,-17</td>\n",
       "      <td>4.59,3.27,2.59,11.2,8.00,2.51,5.63,10.8</td>\n",
       "      <td>8</td>\n",
       "      <td>Sigmoid</td>\n",
       "      <td>8.298537</td>\n",
       "      <td>8.000000</td>\n",
       "      <td>-15.922485</td>\n",
       "      <td>0.4944</td>\n",
       "    </tr>\n",
       "    <tr>\n",
       "      <th>2929</th>\n",
       "      <td>WM1799_SKIN</td>\n",
       "      <td>WM1799</td>\n",
       "      <td>Nutlin-3</td>\n",
       "      <td>MDM2</td>\n",
       "      <td>.0025,.0080,.025,.080,.25,.80,2.53,8</td>\n",
       "      <td>-1.1,-5.6,-11,-1.5,-9.0,-7.9,-24,-37</td>\n",
       "      <td>3.36,11.3,1.43,.78,8.32,9.31,18.0,3.54</td>\n",
       "      <td>8</td>\n",
       "      <td>Sigmoid</td>\n",
       "      <td>2.341730</td>\n",
       "      <td>8.000000</td>\n",
       "      <td>-37.259308</td>\n",
       "      <td>1.0335</td>\n",
       "    </tr>\n",
       "    <tr>\n",
       "      <th>2930</th>\n",
       "      <td>WM2664_SKIN</td>\n",
       "      <td>WM-266-4</td>\n",
       "      <td>Nutlin-3</td>\n",
       "      <td>MDM2</td>\n",
       "      <td>.0025,.0080,.025,.080,.25,.80,2.53,8</td>\n",
       "      <td>-2.6,-1.1,-5.6,-5.2,-6.6,14.5,-21,-27</td>\n",
       "      <td>6.90,2.13,19.0,3.41,.24,.71,6.95,9.52</td>\n",
       "      <td>8</td>\n",
       "      <td>Sigmoid</td>\n",
       "      <td>2.103210</td>\n",
       "      <td>8.000000</td>\n",
       "      <td>-27.421812</td>\n",
       "      <td>0.7351</td>\n",
       "    </tr>\n",
       "    <tr>\n",
       "      <th>2931</th>\n",
       "      <td>WM793_SKIN</td>\n",
       "      <td>WM-793</td>\n",
       "      <td>Nutlin-3</td>\n",
       "      <td>MDM2</td>\n",
       "      <td>.0025,.0080,.025,.080,.25,.80,2.53,8</td>\n",
       "      <td>-19,-18,2.65,2.41,-2.9,-1.5,13.6,-29</td>\n",
       "      <td>8.26,5.75,10.2,9.13,18.6,15.6,9.32,11.9</td>\n",
       "      <td>8</td>\n",
       "      <td>Sigmoid</td>\n",
       "      <td>7.604923</td>\n",
       "      <td>8.000000</td>\n",
       "      <td>-28.789083</td>\n",
       "      <td>0.8620</td>\n",
       "    </tr>\n",
       "    <tr>\n",
       "      <th>2932</th>\n",
       "      <td>WM88_SKIN</td>\n",
       "      <td>WM-88</td>\n",
       "      <td>Nutlin-3</td>\n",
       "      <td>MDM2</td>\n",
       "      <td>.0025,.0080,.025,.080,.25,.80,2.53,8</td>\n",
       "      <td>-9.6,-5.6,1.70,7.92,-5.1,.44,-24,-30</td>\n",
       "      <td>6.40,2.07,4.54,11.6,2.30,2.12,1.93,2.95</td>\n",
       "      <td>8</td>\n",
       "      <td>Sigmoid</td>\n",
       "      <td>1.993680</td>\n",
       "      <td>8.000000</td>\n",
       "      <td>-29.836212</td>\n",
       "      <td>0.6133</td>\n",
       "    </tr>\n",
       "  </tbody>\n",
       "</table>\n",
       "<p>100 rows × 13 columns</p>\n",
       "</div>"
      ],
      "text/plain": [
       "                         CCLE Cell Line Name  ... ActArea\n",
       "2434                          22RV1_PROSTATE  ...  0.7904\n",
       "2438  697_HAEMATOPOIETIC_AND_LYMPHOID_TISSUE  ...  2.7720\n",
       "2439                             769P_KIDNEY  ...  0.7115\n",
       "2443            8MGBA_CENTRAL_NERVOUS_SYSTEM  ...  0.8426\n",
       "2444             A172_CENTRAL_NERVOUS_SYSTEM  ...  0.2102\n",
       "...                                      ...  ...     ...\n",
       "2919            U87MG_CENTRAL_NERVOUS_SYSTEM  ...  0.4944\n",
       "2929                             WM1799_SKIN  ...  1.0335\n",
       "2930                             WM2664_SKIN  ...  0.7351\n",
       "2931                              WM793_SKIN  ...  0.8620\n",
       "2932                               WM88_SKIN  ...  0.6133\n",
       "\n",
       "[100 rows x 13 columns]"
      ]
     },
     "execution_count": 44,
     "metadata": {
      "tags": []
     },
     "output_type": "execute_result"
    }
   ],
   "source": [
    "pharm_mdm2 = pharm.loc[(pharm.Target == 'MDM2') & (pharm.FitType == 'Sigmoid')].copy()\n",
    "pharm_mdm2"
   ]
  },
  {
   "cell_type": "code",
   "execution_count": null,
   "metadata": {
    "colab": {
     "base_uri": "https://localhost:8080/",
     "height": 35
    },
    "executionInfo": {
     "elapsed": 906,
     "status": "ok",
     "timestamp": 1572719439350,
     "user": {
      "displayName": "Margaret Y. Paiva",
      "photoUrl": "",
      "userId": "06544974911748493519"
     },
     "user_tz": 240
    },
    "id": "M0eldgPa_dp9",
    "outputId": "d1123c38-d673-473a-d86a-88969e446af3"
   },
   "outputs": [
    {
     "data": {
      "text/plain": [
       "array(['Nutlin-3'], dtype=object)"
      ]
     },
     "execution_count": 45,
     "metadata": {
      "tags": []
     },
     "output_type": "execute_result"
    }
   ],
   "source": [
    "# name of the compound targeting MDM2\n",
    "pharm_mdm2.Compound.unique()"
   ]
  },
  {
   "cell_type": "code",
   "execution_count": null,
   "metadata": {
    "colab": {
     "base_uri": "https://localhost:8080/",
     "height": 35
    },
    "executionInfo": {
     "elapsed": 565,
     "status": "ok",
     "timestamp": 1572719441812,
     "user": {
      "displayName": "Margaret Y. Paiva",
      "photoUrl": "",
      "userId": "06544974911748493519"
     },
     "user_tz": 240
    },
    "id": "RXwWEnDOWU-C",
    "outputId": "db5558d4-66da-4e99-83f5-38f251f373ce"
   },
   "outputs": [
    {
     "data": {
      "text/plain": [
       "100"
      ]
     },
     "execution_count": 46,
     "metadata": {
      "tags": []
     },
     "output_type": "execute_result"
    }
   ],
   "source": [
    "# How many cell lines have sigmoid-fitted data for that particular drug targeting MDM2?\n",
    "len(pharm_mdm2['CCLE Cell Line Name'].unique())"
   ]
  },
  {
   "cell_type": "markdown",
   "metadata": {
    "id": "RqJTfC1c_s-c"
   },
   "source": [
    "---\n",
    "\n",
    "The correlation between the MDM2-targeting compound activity and MDM2 mutation. Exclude mutations with `Variant_Classification`: `Silent`, `5'Flank`, `Intron`, `IGR`, `3'UTR`, `5'UTR`"
   ]
  },
  {
   "cell_type": "code",
   "execution_count": null,
   "metadata": {
    "colab": {
     "base_uri": "https://localhost:8080/",
     "height": 305
    },
    "executionInfo": {
     "elapsed": 17522,
     "status": "ok",
     "timestamp": 1573433929297,
     "user": {
      "displayName": "Margaret Y. Paiva",
      "photoUrl": "",
      "userId": "06544974911748493519"
     },
     "user_tz": 300
    },
    "id": "lmkTUi6PW5-3",
    "outputId": "4c7d2274-691c-4cd2-f46d-da6922bd9ff1"
   },
   "outputs": [
    {
     "data": {
      "text/html": [
       "<div>\n",
       "<style scoped>\n",
       "    .dataframe tbody tr th:only-of-type {\n",
       "        vertical-align: middle;\n",
       "    }\n",
       "\n",
       "    .dataframe tbody tr th {\n",
       "        vertical-align: top;\n",
       "    }\n",
       "\n",
       "    .dataframe thead th {\n",
       "        text-align: right;\n",
       "    }\n",
       "</style>\n",
       "<table border=\"1\" class=\"dataframe\">\n",
       "  <thead>\n",
       "    <tr style=\"text-align: right;\">\n",
       "      <th></th>\n",
       "      <th>Hugo_Symbol</th>\n",
       "      <th>Entrez_Gene_Id</th>\n",
       "      <th>NCBI_Build</th>\n",
       "      <th>Chromosome</th>\n",
       "      <th>Start_position</th>\n",
       "      <th>End_position</th>\n",
       "      <th>Strand</th>\n",
       "      <th>Variant_Classification</th>\n",
       "      <th>Variant_Type</th>\n",
       "      <th>Reference_Allele</th>\n",
       "      <th>Tumor_Seq_Allele1</th>\n",
       "      <th>dbSNP_RS</th>\n",
       "      <th>dbSNP_Val_Status</th>\n",
       "      <th>Genome_Change</th>\n",
       "      <th>Annotation_Transcript</th>\n",
       "      <th>Tumor_Sample_Barcode</th>\n",
       "      <th>cDNA_Change</th>\n",
       "      <th>Codon_Change</th>\n",
       "      <th>Protein_Change</th>\n",
       "      <th>isDeleterious</th>\n",
       "      <th>isTCGAhotspot</th>\n",
       "      <th>TCGAhsCnt</th>\n",
       "      <th>isCOSMIChotspot</th>\n",
       "      <th>COSMIChsCnt</th>\n",
       "      <th>ExAC_AF</th>\n",
       "      <th>WES_AC</th>\n",
       "      <th>SangerWES_AC</th>\n",
       "      <th>SangerRecalibWES_AC</th>\n",
       "      <th>RNAseq_AC</th>\n",
       "      <th>HC_AC</th>\n",
       "      <th>RD_AC</th>\n",
       "      <th>WGS_AC</th>\n",
       "      <th>Broad_ID</th>\n",
       "    </tr>\n",
       "  </thead>\n",
       "  <tbody>\n",
       "    <tr>\n",
       "      <th>0</th>\n",
       "      <td>DVL1</td>\n",
       "      <td>1855</td>\n",
       "      <td>37</td>\n",
       "      <td>1</td>\n",
       "      <td>1277461</td>\n",
       "      <td>1277461</td>\n",
       "      <td>+</td>\n",
       "      <td>Silent</td>\n",
       "      <td>SNP</td>\n",
       "      <td>C</td>\n",
       "      <td>T</td>\n",
       "      <td>NaN</td>\n",
       "      <td>NaN</td>\n",
       "      <td>g.chr1:1277461C&gt;T</td>\n",
       "      <td>ENST00000378888.5</td>\n",
       "      <td>127399_SOFT_TISSUE</td>\n",
       "      <td>c.438G&gt;A</td>\n",
       "      <td>c.(436-438)gaG&gt;gaA</td>\n",
       "      <td>p.E146E</td>\n",
       "      <td>False</td>\n",
       "      <td>False</td>\n",
       "      <td>0</td>\n",
       "      <td>False</td>\n",
       "      <td>0</td>\n",
       "      <td>NaN</td>\n",
       "      <td>87:39</td>\n",
       "      <td>NaN</td>\n",
       "      <td>NaN</td>\n",
       "      <td>NaN</td>\n",
       "      <td>NaN</td>\n",
       "      <td>NaN</td>\n",
       "      <td>NaN</td>\n",
       "      <td>ACH-001270</td>\n",
       "    </tr>\n",
       "    <tr>\n",
       "      <th>1</th>\n",
       "      <td>AL590822.1</td>\n",
       "      <td>0</td>\n",
       "      <td>37</td>\n",
       "      <td>1</td>\n",
       "      <td>2144416</td>\n",
       "      <td>2144416</td>\n",
       "      <td>+</td>\n",
       "      <td>Missense_Mutation</td>\n",
       "      <td>SNP</td>\n",
       "      <td>G</td>\n",
       "      <td>A</td>\n",
       "      <td>NaN</td>\n",
       "      <td>NaN</td>\n",
       "      <td>g.chr1:2144416G&gt;A</td>\n",
       "      <td>ENST00000545087.1</td>\n",
       "      <td>127399_SOFT_TISSUE</td>\n",
       "      <td>c.604C&gt;T</td>\n",
       "      <td>c.(604-606)Cgc&gt;Tgc</td>\n",
       "      <td>p.R202C</td>\n",
       "      <td>False</td>\n",
       "      <td>False</td>\n",
       "      <td>0</td>\n",
       "      <td>False</td>\n",
       "      <td>0</td>\n",
       "      <td>NaN</td>\n",
       "      <td>23:43</td>\n",
       "      <td>NaN</td>\n",
       "      <td>NaN</td>\n",
       "      <td>NaN</td>\n",
       "      <td>NaN</td>\n",
       "      <td>NaN</td>\n",
       "      <td>NaN</td>\n",
       "      <td>ACH-001270</td>\n",
       "    </tr>\n",
       "    <tr>\n",
       "      <th>2</th>\n",
       "      <td>PLCH2</td>\n",
       "      <td>9651</td>\n",
       "      <td>37</td>\n",
       "      <td>1</td>\n",
       "      <td>2435359</td>\n",
       "      <td>2435359</td>\n",
       "      <td>+</td>\n",
       "      <td>Splice_Site</td>\n",
       "      <td>SNP</td>\n",
       "      <td>A</td>\n",
       "      <td>C</td>\n",
       "      <td>NaN</td>\n",
       "      <td>NaN</td>\n",
       "      <td>g.chr1:2435359A&gt;C</td>\n",
       "      <td>ENST00000419816.2</td>\n",
       "      <td>127399_SOFT_TISSUE</td>\n",
       "      <td>NaN</td>\n",
       "      <td>c.e22-1</td>\n",
       "      <td>NaN</td>\n",
       "      <td>True</td>\n",
       "      <td>False</td>\n",
       "      <td>0</td>\n",
       "      <td>False</td>\n",
       "      <td>0</td>\n",
       "      <td>NaN</td>\n",
       "      <td>9:25</td>\n",
       "      <td>NaN</td>\n",
       "      <td>NaN</td>\n",
       "      <td>NaN</td>\n",
       "      <td>NaN</td>\n",
       "      <td>NaN</td>\n",
       "      <td>NaN</td>\n",
       "      <td>ACH-001270</td>\n",
       "    </tr>\n",
       "    <tr>\n",
       "      <th>3</th>\n",
       "      <td>UBE4B</td>\n",
       "      <td>10277</td>\n",
       "      <td>37</td>\n",
       "      <td>1</td>\n",
       "      <td>10177641</td>\n",
       "      <td>10177641</td>\n",
       "      <td>+</td>\n",
       "      <td>Missense_Mutation</td>\n",
       "      <td>SNP</td>\n",
       "      <td>G</td>\n",
       "      <td>A</td>\n",
       "      <td>NaN</td>\n",
       "      <td>NaN</td>\n",
       "      <td>g.chr1:10177641G&gt;A</td>\n",
       "      <td>ENST00000253251.8</td>\n",
       "      <td>127399_SOFT_TISSUE</td>\n",
       "      <td>c.934G&gt;A</td>\n",
       "      <td>c.(934-936)Gaa&gt;Aaa</td>\n",
       "      <td>p.E312K</td>\n",
       "      <td>False</td>\n",
       "      <td>False</td>\n",
       "      <td>0</td>\n",
       "      <td>False</td>\n",
       "      <td>0</td>\n",
       "      <td>NaN</td>\n",
       "      <td>13:95</td>\n",
       "      <td>NaN</td>\n",
       "      <td>NaN</td>\n",
       "      <td>NaN</td>\n",
       "      <td>NaN</td>\n",
       "      <td>NaN</td>\n",
       "      <td>NaN</td>\n",
       "      <td>ACH-001270</td>\n",
       "    </tr>\n",
       "    <tr>\n",
       "      <th>4</th>\n",
       "      <td>SRM</td>\n",
       "      <td>6723</td>\n",
       "      <td>37</td>\n",
       "      <td>1</td>\n",
       "      <td>11119363</td>\n",
       "      <td>11119363</td>\n",
       "      <td>+</td>\n",
       "      <td>Silent</td>\n",
       "      <td>SNP</td>\n",
       "      <td>G</td>\n",
       "      <td>T</td>\n",
       "      <td>rs34097618</td>\n",
       "      <td>NaN</td>\n",
       "      <td>g.chr1:11119363G&gt;T</td>\n",
       "      <td>ENST00000376957.2</td>\n",
       "      <td>127399_SOFT_TISSUE</td>\n",
       "      <td>c.207C&gt;A</td>\n",
       "      <td>c.(205-207)atC&gt;atA</td>\n",
       "      <td>p.I69I</td>\n",
       "      <td>False</td>\n",
       "      <td>False</td>\n",
       "      <td>0</td>\n",
       "      <td>False</td>\n",
       "      <td>0</td>\n",
       "      <td>NaN</td>\n",
       "      <td>113:57</td>\n",
       "      <td>NaN</td>\n",
       "      <td>NaN</td>\n",
       "      <td>NaN</td>\n",
       "      <td>NaN</td>\n",
       "      <td>NaN</td>\n",
       "      <td>NaN</td>\n",
       "      <td>ACH-001270</td>\n",
       "    </tr>\n",
       "  </tbody>\n",
       "</table>\n",
       "</div>"
      ],
      "text/plain": [
       "  Hugo_Symbol  Entrez_Gene_Id  NCBI_Build  ... RD_AC  WGS_AC    Broad_ID\n",
       "0        DVL1            1855          37  ...   NaN     NaN  ACH-001270\n",
       "1  AL590822.1               0          37  ...   NaN     NaN  ACH-001270\n",
       "2       PLCH2            9651          37  ...   NaN     NaN  ACH-001270\n",
       "3       UBE4B           10277          37  ...   NaN     NaN  ACH-001270\n",
       "4         SRM            6723          37  ...   NaN     NaN  ACH-001270\n",
       "\n",
       "[5 rows x 33 columns]"
      ]
     },
     "execution_count": 6,
     "metadata": {
      "tags": []
     },
     "output_type": "execute_result"
    }
   ],
   "source": [
    "maf = pd.read_csv(DATA / 'CCLE_DepMap_18q3_maf_20180718.txt', sep=\"\\t\", low_memory=False)\n",
    "maf.head()"
   ]
  },
  {
   "cell_type": "code",
   "execution_count": null,
   "metadata": {
    "id": "Jl_82Y8kCVb2"
   },
   "outputs": [],
   "source": [
    "mdm2 = maf[(maf.Hugo_Symbol == \"MDM2\") & ~(maf.Variant_Classification.isin(\n",
    "    [\"Silent\", \"5'Flank\", \"Intron\", \"IGR\", \"3'UTR\", \"5'UTR\"]))] \n",
    "# mdm2.head()"
   ]
  },
  {
   "cell_type": "code",
   "execution_count": null,
   "metadata": {
    "colab": {
     "base_uri": "https://localhost:8080/",
     "height": 254
    },
    "executionInfo": {
     "elapsed": 1798,
     "status": "ok",
     "timestamp": 1572720217182,
     "user": {
      "displayName": "Margaret Y. Paiva",
      "photoUrl": "",
      "userId": "06544974911748493519"
     },
     "user_tz": 240
    },
    "id": "v2u4cxD6Cs3c",
    "outputId": "afbe1305-68be-4abc-a4bd-d6e2c5175f24"
   },
   "outputs": [
    {
     "data": {
      "text/plain": [
       "array(['SAOS2_BONE', 'SKNEP1_BONE', 'HEC251_ENDOMETRIUM',\n",
       "       'SNUC4_LARGE_INTESTINE', '786O_KIDNEY', 'AGS_STOMACH',\n",
       "       'NCIH1666_LUNG', 'NCIH2122_LUNG', 'COV644_OVARY',\n",
       "       'HT115_LARGE_INTESTINE', 'SNU182_LIVER', 'CW2_LARGE_INTESTINE',\n",
       "       'DSH1_URINARY_TRACT', 'ML2_HAEMATOPOIETIC_AND_LYMPHOID_TISSUE',\n",
       "       'MOLT13_HAEMATOPOIETIC_AND_LYMPHOID_TISSUE',\n",
       "       'REH_HAEMATOPOIETIC_AND_LYMPHOID_TISSUE', 'SJSA1_BONE',\n",
       "       'SNU1040_LARGE_INTESTINE', 'SNU81_LARGE_INTESTINE',\n",
       "       'SNUC5_LARGE_INTESTINE', 'NCIBL2122_MATCHED_NORMAL_TISSUE',\n",
       "       'RERFLCAD1_LUNG', 'U178_CENTRAL_NERVOUS_SYSTEM', 'EFO27_OVARY',\n",
       "       'HCC1569_BREAST', 'LS411N_LARGE_INTESTINE', 'MFE296_ENDOMETRIUM',\n",
       "       'MHHPREB1_HAEMATOPOIETIC_AND_LYMPHOID_TISSUE', 'HCC1187_BREAST'],\n",
       "      dtype=object)"
      ]
     },
     "execution_count": 56,
     "metadata": {
      "tags": []
     },
     "output_type": "execute_result"
    }
   ],
   "source": [
    "mdm2_mut_samples = mdm2.Tumor_Sample_Barcode.unique()\n",
    "mdm2_mut_samples"
   ]
  },
  {
   "cell_type": "code",
   "execution_count": null,
   "metadata": {
    "colab": {
     "base_uri": "https://localhost:8080/",
     "height": 35
    },
    "executionInfo": {
     "elapsed": 637,
     "status": "ok",
     "timestamp": 1572720220628,
     "user": {
      "displayName": "Margaret Y. Paiva",
      "photoUrl": "",
      "userId": "06544974911748493519"
     },
     "user_tz": 240
    },
    "id": "CpJPUy3JDgBj",
    "outputId": "27cb8ae9-e48b-4a4f-bbd8-eb8d9a751923"
   },
   "outputs": [
    {
     "data": {
      "text/plain": [
       "29"
      ]
     },
     "execution_count": 57,
     "metadata": {
      "tags": []
     },
     "output_type": "execute_result"
    }
   ],
   "source": [
    "# How many unique cell lines in the MAF file have MDM2 mutations that are NOT \n",
    "# of Variant_Classfication Silent, 5'Flank, Intron, IGR, 3'UTR, 5'UTR?\n",
    "len(mdm2_mut_samples)"
   ]
  },
  {
   "cell_type": "code",
   "execution_count": null,
   "metadata": {
    "colab": {
     "base_uri": "https://localhost:8080/",
     "height": 531
    },
    "executionInfo": {
     "elapsed": 705,
     "status": "ok",
     "timestamp": 1572720223540,
     "user": {
      "displayName": "Margaret Y. Paiva",
      "photoUrl": "",
      "userId": "06544974911748493519"
     },
     "user_tz": 240
    },
    "id": "ZPHygQAWDvh1",
    "outputId": "31b31b66-3724-4ce7-845e-a9bcaa0940a6"
   },
   "outputs": [
    {
     "data": {
      "text/html": [
       "<div>\n",
       "<style scoped>\n",
       "    .dataframe tbody tr th:only-of-type {\n",
       "        vertical-align: middle;\n",
       "    }\n",
       "\n",
       "    .dataframe tbody tr th {\n",
       "        vertical-align: top;\n",
       "    }\n",
       "\n",
       "    .dataframe thead th {\n",
       "        text-align: right;\n",
       "    }\n",
       "</style>\n",
       "<table border=\"1\" class=\"dataframe\">\n",
       "  <thead>\n",
       "    <tr style=\"text-align: right;\">\n",
       "      <th></th>\n",
       "      <th>CCLE Cell Line Name</th>\n",
       "      <th>Primary Cell Line Name</th>\n",
       "      <th>Compound</th>\n",
       "      <th>Target</th>\n",
       "      <th>Doses (uM)</th>\n",
       "      <th>Activity Data (median)</th>\n",
       "      <th>Activity SD</th>\n",
       "      <th>Num Data</th>\n",
       "      <th>FitType</th>\n",
       "      <th>EC50 (uM)</th>\n",
       "      <th>IC50 (uM)</th>\n",
       "      <th>Amax</th>\n",
       "      <th>ActArea</th>\n",
       "      <th>mdm2_mut</th>\n",
       "    </tr>\n",
       "  </thead>\n",
       "  <tbody>\n",
       "    <tr>\n",
       "      <th>2434</th>\n",
       "      <td>22RV1_PROSTATE</td>\n",
       "      <td>22Rv1</td>\n",
       "      <td>Nutlin-3</td>\n",
       "      <td>MDM2</td>\n",
       "      <td>.0025,.0080,.025,.080,.25,.80,2.53,8</td>\n",
       "      <td>-9.7,-11,-9.0,10.4,-2.3,-2.2,.26,-38</td>\n",
       "      <td>8.68,10.8,18.5,11.8,9.38,17.4,13.9,3.25</td>\n",
       "      <td>8</td>\n",
       "      <td>Sigmoid</td>\n",
       "      <td>7.660393</td>\n",
       "      <td>8.000000</td>\n",
       "      <td>-38.178085</td>\n",
       "      <td>0.7904</td>\n",
       "      <td>False</td>\n",
       "    </tr>\n",
       "    <tr>\n",
       "      <th>2438</th>\n",
       "      <td>697_HAEMATOPOIETIC_AND_LYMPHOID_TISSUE</td>\n",
       "      <td>697</td>\n",
       "      <td>Nutlin-3</td>\n",
       "      <td>MDM2</td>\n",
       "      <td>.0025,.0080,.025,.080,.25,.80,2.53,8</td>\n",
       "      <td>2.75,-13,-15,13.2,-17,-13,-71,-94</td>\n",
       "      <td>25.9,9.18,6.04,6.06,22.5,5.67,2.98,.91</td>\n",
       "      <td>8</td>\n",
       "      <td>Sigmoid</td>\n",
       "      <td>1.931175</td>\n",
       "      <td>1.890524</td>\n",
       "      <td>-93.854889</td>\n",
       "      <td>2.7720</td>\n",
       "      <td>False</td>\n",
       "    </tr>\n",
       "    <tr>\n",
       "      <th>2439</th>\n",
       "      <td>769P_KIDNEY</td>\n",
       "      <td>769-P</td>\n",
       "      <td>Nutlin-3</td>\n",
       "      <td>MDM2</td>\n",
       "      <td>.0025,.025,.080,.25,.80,2.53,8</td>\n",
       "      <td>-1.9,.18,-5.3,3.90,6.93,-11,-53</td>\n",
       "      <td>.15,6.89,.98,9.63,8.11,24.5,3.05</td>\n",
       "      <td>7</td>\n",
       "      <td>Sigmoid</td>\n",
       "      <td>3.253213</td>\n",
       "      <td>5.591302</td>\n",
       "      <td>-52.759350</td>\n",
       "      <td>0.7115</td>\n",
       "      <td>False</td>\n",
       "    </tr>\n",
       "    <tr>\n",
       "      <th>2443</th>\n",
       "      <td>8MGBA_CENTRAL_NERVOUS_SYSTEM</td>\n",
       "      <td>8-MG-BA</td>\n",
       "      <td>Nutlin-3</td>\n",
       "      <td>MDM2</td>\n",
       "      <td>.0025,.0080,.025,.080,.25,.80,2.53,8</td>\n",
       "      <td>-27,-5.8,-.11,-2.7,14.1,21.1,-21,-31</td>\n",
       "      <td>30.8,.84,14.6,15.5,9.62,8.70,.81,5.67</td>\n",
       "      <td>8</td>\n",
       "      <td>Sigmoid</td>\n",
       "      <td>2.164914</td>\n",
       "      <td>8.000000</td>\n",
       "      <td>-31.357655</td>\n",
       "      <td>0.8426</td>\n",
       "      <td>False</td>\n",
       "    </tr>\n",
       "    <tr>\n",
       "      <th>2444</th>\n",
       "      <td>A172_CENTRAL_NERVOUS_SYSTEM</td>\n",
       "      <td>A172</td>\n",
       "      <td>Nutlin-3</td>\n",
       "      <td>MDM2</td>\n",
       "      <td>.0025,.0080,.025,.080,.25,.80,2.53,8</td>\n",
       "      <td>-1.7,-6.0,1.23,-2.8,-3.8,-5.6,-11,-28</td>\n",
       "      <td>3.06,6.86,8.66,2.42,8.39,14.8,13.4,9.02</td>\n",
       "      <td>8</td>\n",
       "      <td>Sigmoid</td>\n",
       "      <td>8.390720</td>\n",
       "      <td>8.000000</td>\n",
       "      <td>-28.074141</td>\n",
       "      <td>0.2102</td>\n",
       "      <td>False</td>\n",
       "    </tr>\n",
       "    <tr>\n",
       "      <th>...</th>\n",
       "      <td>...</td>\n",
       "      <td>...</td>\n",
       "      <td>...</td>\n",
       "      <td>...</td>\n",
       "      <td>...</td>\n",
       "      <td>...</td>\n",
       "      <td>...</td>\n",
       "      <td>...</td>\n",
       "      <td>...</td>\n",
       "      <td>...</td>\n",
       "      <td>...</td>\n",
       "      <td>...</td>\n",
       "      <td>...</td>\n",
       "      <td>...</td>\n",
       "    </tr>\n",
       "    <tr>\n",
       "      <th>2919</th>\n",
       "      <td>U87MG_CENTRAL_NERVOUS_SYSTEM</td>\n",
       "      <td>U-87 MG</td>\n",
       "      <td>Nutlin-3</td>\n",
       "      <td>MDM2</td>\n",
       "      <td>.0025,.0080,.025,.080,.25,.80,2.53,8</td>\n",
       "      <td>8.06,10.8,-5.1,-.98,-1.1,.56,-12,-17</td>\n",
       "      <td>4.59,3.27,2.59,11.2,8.00,2.51,5.63,10.8</td>\n",
       "      <td>8</td>\n",
       "      <td>Sigmoid</td>\n",
       "      <td>8.298537</td>\n",
       "      <td>8.000000</td>\n",
       "      <td>-15.922485</td>\n",
       "      <td>0.4944</td>\n",
       "      <td>False</td>\n",
       "    </tr>\n",
       "    <tr>\n",
       "      <th>2929</th>\n",
       "      <td>WM1799_SKIN</td>\n",
       "      <td>WM1799</td>\n",
       "      <td>Nutlin-3</td>\n",
       "      <td>MDM2</td>\n",
       "      <td>.0025,.0080,.025,.080,.25,.80,2.53,8</td>\n",
       "      <td>-1.1,-5.6,-11,-1.5,-9.0,-7.9,-24,-37</td>\n",
       "      <td>3.36,11.3,1.43,.78,8.32,9.31,18.0,3.54</td>\n",
       "      <td>8</td>\n",
       "      <td>Sigmoid</td>\n",
       "      <td>2.341730</td>\n",
       "      <td>8.000000</td>\n",
       "      <td>-37.259308</td>\n",
       "      <td>1.0335</td>\n",
       "      <td>False</td>\n",
       "    </tr>\n",
       "    <tr>\n",
       "      <th>2930</th>\n",
       "      <td>WM2664_SKIN</td>\n",
       "      <td>WM-266-4</td>\n",
       "      <td>Nutlin-3</td>\n",
       "      <td>MDM2</td>\n",
       "      <td>.0025,.0080,.025,.080,.25,.80,2.53,8</td>\n",
       "      <td>-2.6,-1.1,-5.6,-5.2,-6.6,14.5,-21,-27</td>\n",
       "      <td>6.90,2.13,19.0,3.41,.24,.71,6.95,9.52</td>\n",
       "      <td>8</td>\n",
       "      <td>Sigmoid</td>\n",
       "      <td>2.103210</td>\n",
       "      <td>8.000000</td>\n",
       "      <td>-27.421812</td>\n",
       "      <td>0.7351</td>\n",
       "      <td>False</td>\n",
       "    </tr>\n",
       "    <tr>\n",
       "      <th>2931</th>\n",
       "      <td>WM793_SKIN</td>\n",
       "      <td>WM-793</td>\n",
       "      <td>Nutlin-3</td>\n",
       "      <td>MDM2</td>\n",
       "      <td>.0025,.0080,.025,.080,.25,.80,2.53,8</td>\n",
       "      <td>-19,-18,2.65,2.41,-2.9,-1.5,13.6,-29</td>\n",
       "      <td>8.26,5.75,10.2,9.13,18.6,15.6,9.32,11.9</td>\n",
       "      <td>8</td>\n",
       "      <td>Sigmoid</td>\n",
       "      <td>7.604923</td>\n",
       "      <td>8.000000</td>\n",
       "      <td>-28.789083</td>\n",
       "      <td>0.8620</td>\n",
       "      <td>False</td>\n",
       "    </tr>\n",
       "    <tr>\n",
       "      <th>2932</th>\n",
       "      <td>WM88_SKIN</td>\n",
       "      <td>WM-88</td>\n",
       "      <td>Nutlin-3</td>\n",
       "      <td>MDM2</td>\n",
       "      <td>.0025,.0080,.025,.080,.25,.80,2.53,8</td>\n",
       "      <td>-9.6,-5.6,1.70,7.92,-5.1,.44,-24,-30</td>\n",
       "      <td>6.40,2.07,4.54,11.6,2.30,2.12,1.93,2.95</td>\n",
       "      <td>8</td>\n",
       "      <td>Sigmoid</td>\n",
       "      <td>1.993680</td>\n",
       "      <td>8.000000</td>\n",
       "      <td>-29.836212</td>\n",
       "      <td>0.6133</td>\n",
       "      <td>False</td>\n",
       "    </tr>\n",
       "  </tbody>\n",
       "</table>\n",
       "<p>100 rows × 14 columns</p>\n",
       "</div>"
      ],
      "text/plain": [
       "                         CCLE Cell Line Name  ... mdm2_mut\n",
       "2434                          22RV1_PROSTATE  ...    False\n",
       "2438  697_HAEMATOPOIETIC_AND_LYMPHOID_TISSUE  ...    False\n",
       "2439                             769P_KIDNEY  ...    False\n",
       "2443            8MGBA_CENTRAL_NERVOUS_SYSTEM  ...    False\n",
       "2444             A172_CENTRAL_NERVOUS_SYSTEM  ...    False\n",
       "...                                      ...  ...      ...\n",
       "2919            U87MG_CENTRAL_NERVOUS_SYSTEM  ...    False\n",
       "2929                             WM1799_SKIN  ...    False\n",
       "2930                             WM2664_SKIN  ...    False\n",
       "2931                              WM793_SKIN  ...    False\n",
       "2932                               WM88_SKIN  ...    False\n",
       "\n",
       "[100 rows x 14 columns]"
      ]
     },
     "execution_count": 58,
     "metadata": {
      "tags": []
     },
     "output_type": "execute_result"
    }
   ],
   "source": [
    "pharm_mdm2[\"mdm2_mut\"] = False # indicating MDM2 mutation status\n",
    "pharm_mdm2.loc[pharm_mdm2[\"CCLE Cell Line Name\"].isin(mdm2_mut_samples), \"mdm2_mut\"] = True\n",
    "pharm_mdm2"
   ]
  },
  {
   "cell_type": "code",
   "execution_count": null,
   "metadata": {
    "colab": {
     "base_uri": "https://localhost:8080/",
     "height": 35
    },
    "executionInfo": {
     "elapsed": 668,
     "status": "ok",
     "timestamp": 1572720229751,
     "user": {
      "displayName": "Margaret Y. Paiva",
      "photoUrl": "",
      "userId": "06544974911748493519"
     },
     "user_tz": 240
    },
    "id": "Oww975YnF8zA",
    "outputId": "5238aee9-823a-4cbb-ecce-6073c1f16a54"
   },
   "outputs": [
    {
     "data": {
      "text/plain": [
       "2"
      ]
     },
     "execution_count": 59,
     "metadata": {
      "tags": []
     },
     "output_type": "execute_result"
    }
   ],
   "source": [
    "# how many unique cell lines in the MAF file with MDM2 mutations also have MDM2-targeting compound sensitivity profiling?\n",
    "sum(pharm_mdm2.mdm2_mut)"
   ]
  },
  {
   "cell_type": "markdown",
   "metadata": {
    "id": "s9OJkCM33kEq"
   },
   "source": [
    "Plot the IC50 corresponding to whether the cell lines containing MDM2 mutation or not."
   ]
  },
  {
   "cell_type": "code",
   "execution_count": null,
   "metadata": {
    "id": "-_1tEjQOJOAI"
   },
   "outputs": [],
   "source": [
    "mwu, pval = mannwhitneyu(pharm_mdm2.loc[pharm_mdm2.mdm2_mut, \"IC50 (uM)\"],\n",
    "                         pharm_mdm2.loc[~pharm_mdm2.mdm2_mut, \"IC50 (uM)\"],\n",
    "                         alternative=\"two-sided\")"
   ]
  },
  {
   "cell_type": "code",
   "execution_count": null,
   "metadata": {
    "colab": {
     "base_uri": "https://localhost:8080/",
     "height": 298
    },
    "executionInfo": {
     "elapsed": 1028,
     "status": "ok",
     "timestamp": 1572721927959,
     "user": {
      "displayName": "Margaret Y. Paiva",
      "photoUrl": "",
      "userId": "06544974911748493519"
     },
     "user_tz": 240
    },
    "id": "IRUiBr0_Ir-w",
    "outputId": "d5b293d7-28a4-4ae0-e7ac-145780433c5e"
   },
   "outputs": [
    {
     "data": {
      "text/plain": [
       "Text(0.2, 4, 'M-W U = 41.0 (P-value = 0.0713)')"
      ]
     },
     "execution_count": 66,
     "metadata": {
      "tags": []
     },
     "output_type": "execute_result"
    },
    {
     "data": {
      "image/png": "[encoded data removed]",
      "text/plain": [
       "<Figure size 432x288 with 1 Axes>"
      ]
     },
     "metadata": {
      "tags": []
     },
     "output_type": "display_data"
    }
   ],
   "source": [
    "fig, ax = plt.subplots()\n",
    "\n",
    "sns.boxplot(x=\"mdm2_mut\", y=\"IC50 (uM)\", data=pharm_mdm2, fliersize=0)\n",
    "sns.swarmplot(x=\"mdm2_mut\", y=\"IC50 (uM)\", data=pharm_mdm2, color=\".2\", alpha=0.5)\n",
    "ax.text(0.2, 4, \"M-W U = {} (P-value = {})\".format(mwu, np.round(pval, 4)))"
   ]
  },
  {
   "cell_type": "markdown",
   "metadata": {
    "id": "uPWd0DyoiIWg"
   },
   "source": [
    "The MDM2 mutation rate is very low in these cell lines with drug sensitivity data."
   ]
  },
  {
   "cell_type": "code",
   "execution_count": null,
   "metadata": {
    "id": "ahQEwJ5p-hqu"
   },
   "outputs": [],
   "source": [
    "# Consider the TP53 mutation instead of MDM2\n",
    "tp53 = maf[(maf.Hugo_Symbol == \"TP53\") & ~(maf.Variant_Classification.isin(\n",
    "    [\"Silent\", \"5'Flank\", \"Intron\", \"IGR\", \"3'UTR\", \"5'UTR\"]))] \n",
    "\n",
    "tp53_mut_samples = tp53.Tumor_Sample_Barcode.unique()"
   ]
  },
  {
   "cell_type": "code",
   "execution_count": null,
   "metadata": {
    "colab": {
     "base_uri": "https://localhost:8080/",
     "height": 531
    },
    "executionInfo": {
     "elapsed": 942,
     "status": "ok",
     "timestamp": 1572722739899,
     "user": {
      "displayName": "Margaret Y. Paiva",
      "photoUrl": "",
      "userId": "06544974911748493519"
     },
     "user_tz": 240
    },
    "id": "ayHB4h033kEx",
    "outputId": "447e2a81-1e69-40ce-ba3e-5aab64224d25"
   },
   "outputs": [
    {
     "data": {
      "text/html": [
       "<div>\n",
       "<style scoped>\n",
       "    .dataframe tbody tr th:only-of-type {\n",
       "        vertical-align: middle;\n",
       "    }\n",
       "\n",
       "    .dataframe tbody tr th {\n",
       "        vertical-align: top;\n",
       "    }\n",
       "\n",
       "    .dataframe thead th {\n",
       "        text-align: right;\n",
       "    }\n",
       "</style>\n",
       "<table border=\"1\" class=\"dataframe\">\n",
       "  <thead>\n",
       "    <tr style=\"text-align: right;\">\n",
       "      <th></th>\n",
       "      <th>CCLE Cell Line Name</th>\n",
       "      <th>Primary Cell Line Name</th>\n",
       "      <th>Compound</th>\n",
       "      <th>Target</th>\n",
       "      <th>Doses (uM)</th>\n",
       "      <th>Activity Data (median)</th>\n",
       "      <th>Activity SD</th>\n",
       "      <th>Num Data</th>\n",
       "      <th>FitType</th>\n",
       "      <th>EC50 (uM)</th>\n",
       "      <th>IC50 (uM)</th>\n",
       "      <th>Amax</th>\n",
       "      <th>ActArea</th>\n",
       "      <th>mdm2_mut</th>\n",
       "      <th>tp53_mut</th>\n",
       "    </tr>\n",
       "  </thead>\n",
       "  <tbody>\n",
       "    <tr>\n",
       "      <th>2434</th>\n",
       "      <td>22RV1_PROSTATE</td>\n",
       "      <td>22Rv1</td>\n",
       "      <td>Nutlin-3</td>\n",
       "      <td>MDM2</td>\n",
       "      <td>.0025,.0080,.025,.080,.25,.80,2.53,8</td>\n",
       "      <td>-9.7,-11,-9.0,10.4,-2.3,-2.2,.26,-38</td>\n",
       "      <td>8.68,10.8,18.5,11.8,9.38,17.4,13.9,3.25</td>\n",
       "      <td>8</td>\n",
       "      <td>Sigmoid</td>\n",
       "      <td>7.660393</td>\n",
       "      <td>8.000000</td>\n",
       "      <td>-38.178085</td>\n",
       "      <td>0.7904</td>\n",
       "      <td>False</td>\n",
       "      <td>True</td>\n",
       "    </tr>\n",
       "    <tr>\n",
       "      <th>2438</th>\n",
       "      <td>697_HAEMATOPOIETIC_AND_LYMPHOID_TISSUE</td>\n",
       "      <td>697</td>\n",
       "      <td>Nutlin-3</td>\n",
       "      <td>MDM2</td>\n",
       "      <td>.0025,.0080,.025,.080,.25,.80,2.53,8</td>\n",
       "      <td>2.75,-13,-15,13.2,-17,-13,-71,-94</td>\n",
       "      <td>25.9,9.18,6.04,6.06,22.5,5.67,2.98,.91</td>\n",
       "      <td>8</td>\n",
       "      <td>Sigmoid</td>\n",
       "      <td>1.931175</td>\n",
       "      <td>1.890524</td>\n",
       "      <td>-93.854889</td>\n",
       "      <td>2.7720</td>\n",
       "      <td>False</td>\n",
       "      <td>False</td>\n",
       "    </tr>\n",
       "    <tr>\n",
       "      <th>2439</th>\n",
       "      <td>769P_KIDNEY</td>\n",
       "      <td>769-P</td>\n",
       "      <td>Nutlin-3</td>\n",
       "      <td>MDM2</td>\n",
       "      <td>.0025,.025,.080,.25,.80,2.53,8</td>\n",
       "      <td>-1.9,.18,-5.3,3.90,6.93,-11,-53</td>\n",
       "      <td>.15,6.89,.98,9.63,8.11,24.5,3.05</td>\n",
       "      <td>7</td>\n",
       "      <td>Sigmoid</td>\n",
       "      <td>3.253213</td>\n",
       "      <td>5.591302</td>\n",
       "      <td>-52.759350</td>\n",
       "      <td>0.7115</td>\n",
       "      <td>False</td>\n",
       "      <td>False</td>\n",
       "    </tr>\n",
       "    <tr>\n",
       "      <th>2443</th>\n",
       "      <td>8MGBA_CENTRAL_NERVOUS_SYSTEM</td>\n",
       "      <td>8-MG-BA</td>\n",
       "      <td>Nutlin-3</td>\n",
       "      <td>MDM2</td>\n",
       "      <td>.0025,.0080,.025,.080,.25,.80,2.53,8</td>\n",
       "      <td>-27,-5.8,-.11,-2.7,14.1,21.1,-21,-31</td>\n",
       "      <td>30.8,.84,14.6,15.5,9.62,8.70,.81,5.67</td>\n",
       "      <td>8</td>\n",
       "      <td>Sigmoid</td>\n",
       "      <td>2.164914</td>\n",
       "      <td>8.000000</td>\n",
       "      <td>-31.357655</td>\n",
       "      <td>0.8426</td>\n",
       "      <td>False</td>\n",
       "      <td>True</td>\n",
       "    </tr>\n",
       "    <tr>\n",
       "      <th>2444</th>\n",
       "      <td>A172_CENTRAL_NERVOUS_SYSTEM</td>\n",
       "      <td>A172</td>\n",
       "      <td>Nutlin-3</td>\n",
       "      <td>MDM2</td>\n",
       "      <td>.0025,.0080,.025,.080,.25,.80,2.53,8</td>\n",
       "      <td>-1.7,-6.0,1.23,-2.8,-3.8,-5.6,-11,-28</td>\n",
       "      <td>3.06,6.86,8.66,2.42,8.39,14.8,13.4,9.02</td>\n",
       "      <td>8</td>\n",
       "      <td>Sigmoid</td>\n",
       "      <td>8.390720</td>\n",
       "      <td>8.000000</td>\n",
       "      <td>-28.074141</td>\n",
       "      <td>0.2102</td>\n",
       "      <td>False</td>\n",
       "      <td>False</td>\n",
       "    </tr>\n",
       "    <tr>\n",
       "      <th>...</th>\n",
       "      <td>...</td>\n",
       "      <td>...</td>\n",
       "      <td>...</td>\n",
       "      <td>...</td>\n",
       "      <td>...</td>\n",
       "      <td>...</td>\n",
       "      <td>...</td>\n",
       "      <td>...</td>\n",
       "      <td>...</td>\n",
       "      <td>...</td>\n",
       "      <td>...</td>\n",
       "      <td>...</td>\n",
       "      <td>...</td>\n",
       "      <td>...</td>\n",
       "      <td>...</td>\n",
       "    </tr>\n",
       "    <tr>\n",
       "      <th>2919</th>\n",
       "      <td>U87MG_CENTRAL_NERVOUS_SYSTEM</td>\n",
       "      <td>U-87 MG</td>\n",
       "      <td>Nutlin-3</td>\n",
       "      <td>MDM2</td>\n",
       "      <td>.0025,.0080,.025,.080,.25,.80,2.53,8</td>\n",
       "      <td>8.06,10.8,-5.1,-.98,-1.1,.56,-12,-17</td>\n",
       "      <td>4.59,3.27,2.59,11.2,8.00,2.51,5.63,10.8</td>\n",
       "      <td>8</td>\n",
       "      <td>Sigmoid</td>\n",
       "      <td>8.298537</td>\n",
       "      <td>8.000000</td>\n",
       "      <td>-15.922485</td>\n",
       "      <td>0.4944</td>\n",
       "      <td>False</td>\n",
       "      <td>False</td>\n",
       "    </tr>\n",
       "    <tr>\n",
       "      <th>2929</th>\n",
       "      <td>WM1799_SKIN</td>\n",
       "      <td>WM1799</td>\n",
       "      <td>Nutlin-3</td>\n",
       "      <td>MDM2</td>\n",
       "      <td>.0025,.0080,.025,.080,.25,.80,2.53,8</td>\n",
       "      <td>-1.1,-5.6,-11,-1.5,-9.0,-7.9,-24,-37</td>\n",
       "      <td>3.36,11.3,1.43,.78,8.32,9.31,18.0,3.54</td>\n",
       "      <td>8</td>\n",
       "      <td>Sigmoid</td>\n",
       "      <td>2.341730</td>\n",
       "      <td>8.000000</td>\n",
       "      <td>-37.259308</td>\n",
       "      <td>1.0335</td>\n",
       "      <td>False</td>\n",
       "      <td>False</td>\n",
       "    </tr>\n",
       "    <tr>\n",
       "      <th>2930</th>\n",
       "      <td>WM2664_SKIN</td>\n",
       "      <td>WM-266-4</td>\n",
       "      <td>Nutlin-3</td>\n",
       "      <td>MDM2</td>\n",
       "      <td>.0025,.0080,.025,.080,.25,.80,2.53,8</td>\n",
       "      <td>-2.6,-1.1,-5.6,-5.2,-6.6,14.5,-21,-27</td>\n",
       "      <td>6.90,2.13,19.0,3.41,.24,.71,6.95,9.52</td>\n",
       "      <td>8</td>\n",
       "      <td>Sigmoid</td>\n",
       "      <td>2.103210</td>\n",
       "      <td>8.000000</td>\n",
       "      <td>-27.421812</td>\n",
       "      <td>0.7351</td>\n",
       "      <td>False</td>\n",
       "      <td>False</td>\n",
       "    </tr>\n",
       "    <tr>\n",
       "      <th>2931</th>\n",
       "      <td>WM793_SKIN</td>\n",
       "      <td>WM-793</td>\n",
       "      <td>Nutlin-3</td>\n",
       "      <td>MDM2</td>\n",
       "      <td>.0025,.0080,.025,.080,.25,.80,2.53,8</td>\n",
       "      <td>-19,-18,2.65,2.41,-2.9,-1.5,13.6,-29</td>\n",
       "      <td>8.26,5.75,10.2,9.13,18.6,15.6,9.32,11.9</td>\n",
       "      <td>8</td>\n",
       "      <td>Sigmoid</td>\n",
       "      <td>7.604923</td>\n",
       "      <td>8.000000</td>\n",
       "      <td>-28.789083</td>\n",
       "      <td>0.8620</td>\n",
       "      <td>False</td>\n",
       "      <td>False</td>\n",
       "    </tr>\n",
       "    <tr>\n",
       "      <th>2932</th>\n",
       "      <td>WM88_SKIN</td>\n",
       "      <td>WM-88</td>\n",
       "      <td>Nutlin-3</td>\n",
       "      <td>MDM2</td>\n",
       "      <td>.0025,.0080,.025,.080,.25,.80,2.53,8</td>\n",
       "      <td>-9.6,-5.6,1.70,7.92,-5.1,.44,-24,-30</td>\n",
       "      <td>6.40,2.07,4.54,11.6,2.30,2.12,1.93,2.95</td>\n",
       "      <td>8</td>\n",
       "      <td>Sigmoid</td>\n",
       "      <td>1.993680</td>\n",
       "      <td>8.000000</td>\n",
       "      <td>-29.836212</td>\n",
       "      <td>0.6133</td>\n",
       "      <td>False</td>\n",
       "      <td>False</td>\n",
       "    </tr>\n",
       "  </tbody>\n",
       "</table>\n",
       "<p>100 rows × 15 columns</p>\n",
       "</div>"
      ],
      "text/plain": [
       "                         CCLE Cell Line Name  ... tp53_mut\n",
       "2434                          22RV1_PROSTATE  ...     True\n",
       "2438  697_HAEMATOPOIETIC_AND_LYMPHOID_TISSUE  ...    False\n",
       "2439                             769P_KIDNEY  ...    False\n",
       "2443            8MGBA_CENTRAL_NERVOUS_SYSTEM  ...     True\n",
       "2444             A172_CENTRAL_NERVOUS_SYSTEM  ...    False\n",
       "...                                      ...  ...      ...\n",
       "2919            U87MG_CENTRAL_NERVOUS_SYSTEM  ...    False\n",
       "2929                             WM1799_SKIN  ...    False\n",
       "2930                             WM2664_SKIN  ...    False\n",
       "2931                              WM793_SKIN  ...    False\n",
       "2932                               WM88_SKIN  ...    False\n",
       "\n",
       "[100 rows x 15 columns]"
      ]
     },
     "execution_count": 67,
     "metadata": {
      "tags": []
     },
     "output_type": "execute_result"
    }
   ],
   "source": [
    "pharm_mdm2[\"tp53_mut\"] = False # indicating TP53 mutation status\n",
    "pharm_mdm2.loc[pharm_mdm2[\"CCLE Cell Line Name\"].isin(tp53_mut_samples), \"tp53_mut\"] = True\n",
    "pharm_mdm2"
   ]
  },
  {
   "cell_type": "code",
   "execution_count": null,
   "metadata": {
    "id": "HZJMfNlTlf0Y"
   },
   "outputs": [],
   "source": [
    "mwu1, pval1 = mannwhitneyu(pharm_mdm2.loc[pharm_mdm2.tp53_mut, \"IC50 (uM)\"],\n",
    "                         pharm_mdm2.loc[~pharm_mdm2.tp53_mut, \"IC50 (uM)\"],\n",
    "                         alternative=\"two-sided\")"
   ]
  },
  {
   "cell_type": "code",
   "execution_count": null,
   "metadata": {
    "colab": {
     "base_uri": "https://localhost:8080/",
     "height": 298
    },
    "executionInfo": {
     "elapsed": 1212,
     "status": "ok",
     "timestamp": 1572723101163,
     "user": {
      "displayName": "Margaret Y. Paiva",
      "photoUrl": "",
      "userId": "06544974911748493519"
     },
     "user_tz": 240
    },
    "id": "B0U9EkrYligq",
    "outputId": "bb77c56e-83aa-4f7b-8562-7c677fd51ed5"
   },
   "outputs": [
    {
     "data": {
      "text/plain": [
       "Text(0.2, 4, 'M-W U = 1374.5 (P-value = 0.0536)')"
      ]
     },
     "execution_count": 70,
     "metadata": {
      "tags": []
     },
     "output_type": "execute_result"
    },
    {
     "data": {
      "image/png": "[encoded data removed]",
      "text/plain": [
       "<Figure size 432x288 with 1 Axes>"
      ]
     },
     "metadata": {
      "tags": []
     },
     "output_type": "display_data"
    }
   ],
   "source": [
    "fig, ax = plt.subplots()\n",
    "\n",
    "sns.boxplot(x=\"tp53_mut\", y=\"IC50 (uM)\", data=pharm_mdm2, fliersize=0)\n",
    "sns.swarmplot(x=\"tp53_mut\", y=\"IC50 (uM)\", data=pharm_mdm2, color=\".2\", alpha=0.5)\n",
    "ax.text(0.2, 4, \"M-W U = {} (P-value = {})\".format(mwu1, np.round(pval1, 4)))"
   ]
  },
  {
   "cell_type": "markdown",
   "metadata": {
    "id": "D_NWwaUI3kE3"
   },
   "source": [
    "The correlation between TP53 mutations and the MDM2 inhibitor response is higher than between MDM2 mutations and MDM2 inhibitor response.\n",
    "\n"
   ]
  },
  {
   "cell_type": "markdown",
   "metadata": {
    "id": "cIef6q363kE4"
   },
   "source": [
    "## Lethality analysis"
   ]
  },
  {
   "cell_type": "code",
   "execution_count": null,
   "metadata": {
    "colab": {
     "base_uri": "https://localhost:8080/",
     "height": 198
    },
    "executionInfo": {
     "elapsed": 807,
     "status": "ok",
     "timestamp": 1573434255967,
     "user": {
      "displayName": "Margaret Y. Paiva",
      "photoUrl": "",
      "userId": "06544974911748493519"
     },
     "user_tz": 300
    },
    "id": "Bv_YRdN_3kE5",
    "outputId": "0c63352b-27d0-4f3a-99ec-e2a888acdfd0"
   },
   "outputs": [
    {
     "data": {
      "text/html": [
       "<div>\n",
       "<style scoped>\n",
       "    .dataframe tbody tr th:only-of-type {\n",
       "        vertical-align: middle;\n",
       "    }\n",
       "\n",
       "    .dataframe tbody tr th {\n",
       "        vertical-align: top;\n",
       "    }\n",
       "\n",
       "    .dataframe thead th {\n",
       "        text-align: right;\n",
       "    }\n",
       "</style>\n",
       "<table border=\"1\" class=\"dataframe\">\n",
       "  <thead>\n",
       "    <tr style=\"text-align: right;\">\n",
       "      <th></th>\n",
       "      <th>CLEANNAME_PRIMARYSITE</th>\n",
       "      <th>SensitivityScore</th>\n",
       "      <th>CELLLINE</th>\n",
       "      <th>PRIMARY_SITE</th>\n",
       "      <th>PATHOLOGIST_ANNOTATION</th>\n",
       "    </tr>\n",
       "  </thead>\n",
       "  <tbody>\n",
       "    <tr>\n",
       "      <th>0</th>\n",
       "      <td>cas1_central_nervous_system</td>\n",
       "      <td>1.323</td>\n",
       "      <td>cas1</td>\n",
       "      <td>central_nervous_system</td>\n",
       "      <td>CNS:Glioma_HighGrade</td>\n",
       "    </tr>\n",
       "    <tr>\n",
       "      <th>1</th>\n",
       "      <td>mdamb157_breast</td>\n",
       "      <td>1.291</td>\n",
       "      <td>mdamb157</td>\n",
       "      <td>breast</td>\n",
       "      <td>Breast:Carcinoma</td>\n",
       "    </tr>\n",
       "    <tr>\n",
       "      <th>2</th>\n",
       "      <td>saos2_bone</td>\n",
       "      <td>1.249</td>\n",
       "      <td>saos2</td>\n",
       "      <td>bone</td>\n",
       "      <td>Bone:Sarcoma_Osteo</td>\n",
       "    </tr>\n",
       "    <tr>\n",
       "      <th>3</th>\n",
       "      <td>gi1_central_nervous_system</td>\n",
       "      <td>1.193</td>\n",
       "      <td>gi1</td>\n",
       "      <td>central_nervous_system</td>\n",
       "      <td>CNS:Glioma</td>\n",
       "    </tr>\n",
       "    <tr>\n",
       "      <th>4</th>\n",
       "      <td>mdamb468_breast</td>\n",
       "      <td>1.121</td>\n",
       "      <td>mdamb468</td>\n",
       "      <td>breast</td>\n",
       "      <td>Breast:Carcinoma</td>\n",
       "    </tr>\n",
       "  </tbody>\n",
       "</table>\n",
       "</div>"
      ],
      "text/plain": [
       "         CLEANNAME_PRIMARYSITE  ...  PATHOLOGIST_ANNOTATION\n",
       "0  cas1_central_nervous_system  ...    CNS:Glioma_HighGrade\n",
       "1              mdamb157_breast  ...        Breast:Carcinoma\n",
       "2                   saos2_bone  ...      Bone:Sarcoma_Osteo\n",
       "3   gi1_central_nervous_system  ...              CNS:Glioma\n",
       "4              mdamb468_breast  ...        Breast:Carcinoma\n",
       "\n",
       "[5 rows x 5 columns]"
      ]
     },
     "execution_count": 16,
     "metadata": {
      "tags": []
     },
     "output_type": "execute_result"
    }
   ],
   "source": [
    "bcat_ataris = pd.read_csv(DATA / \"GeneSensitivity_MDM2_ATARiS.csv\")\n",
    "bcat_ataris.head()"
   ]
  },
  {
   "cell_type": "code",
   "execution_count": null,
   "metadata": {
    "id": "_3KY07i1LL-C"
   },
   "outputs": [],
   "source": [
    "# To match the sample IDs we have previously, convert the sample names to upper case\n",
    "bcat_ataris[\"sample_id\"] = bcat_ataris.CLEANNAME_PRIMARYSITE.str.upper()"
   ]
  },
  {
   "cell_type": "code",
   "execution_count": null,
   "metadata": {
    "colab": {
     "base_uri": "https://localhost:8080/",
     "height": 198
    },
    "executionInfo": {
     "elapsed": 745,
     "status": "ok",
     "timestamp": 1573434262106,
     "user": {
      "displayName": "Margaret Y. Paiva",
      "photoUrl": "",
      "userId": "06544974911748493519"
     },
     "user_tz": 300
    },
    "id": "9-Iw3ZM4-3w4",
    "outputId": "17731146-aef8-401a-fa5d-c91300f58d1a"
   },
   "outputs": [
    {
     "data": {
      "text/html": [
       "<div>\n",
       "<style scoped>\n",
       "    .dataframe tbody tr th:only-of-type {\n",
       "        vertical-align: middle;\n",
       "    }\n",
       "\n",
       "    .dataframe tbody tr th {\n",
       "        vertical-align: top;\n",
       "    }\n",
       "\n",
       "    .dataframe thead th {\n",
       "        text-align: right;\n",
       "    }\n",
       "</style>\n",
       "<table border=\"1\" class=\"dataframe\">\n",
       "  <thead>\n",
       "    <tr style=\"text-align: right;\">\n",
       "      <th></th>\n",
       "      <th>CLEANNAME_PRIMARYSITE</th>\n",
       "      <th>SensitivityScore</th>\n",
       "      <th>CELLLINE</th>\n",
       "      <th>PRIMARY_SITE</th>\n",
       "      <th>PATHOLOGIST_ANNOTATION</th>\n",
       "      <th>sample_id</th>\n",
       "      <th>TP53_mut</th>\n",
       "    </tr>\n",
       "  </thead>\n",
       "  <tbody>\n",
       "    <tr>\n",
       "      <th>0</th>\n",
       "      <td>cas1_central_nervous_system</td>\n",
       "      <td>1.323</td>\n",
       "      <td>cas1</td>\n",
       "      <td>central_nervous_system</td>\n",
       "      <td>CNS:Glioma_HighGrade</td>\n",
       "      <td>CAS1_CENTRAL_NERVOUS_SYSTEM</td>\n",
       "      <td>True</td>\n",
       "    </tr>\n",
       "    <tr>\n",
       "      <th>1</th>\n",
       "      <td>mdamb157_breast</td>\n",
       "      <td>1.291</td>\n",
       "      <td>mdamb157</td>\n",
       "      <td>breast</td>\n",
       "      <td>Breast:Carcinoma</td>\n",
       "      <td>MDAMB157_BREAST</td>\n",
       "      <td>True</td>\n",
       "    </tr>\n",
       "    <tr>\n",
       "      <th>2</th>\n",
       "      <td>saos2_bone</td>\n",
       "      <td>1.249</td>\n",
       "      <td>saos2</td>\n",
       "      <td>bone</td>\n",
       "      <td>Bone:Sarcoma_Osteo</td>\n",
       "      <td>SAOS2_BONE</td>\n",
       "      <td>False</td>\n",
       "    </tr>\n",
       "    <tr>\n",
       "      <th>3</th>\n",
       "      <td>gi1_central_nervous_system</td>\n",
       "      <td>1.193</td>\n",
       "      <td>gi1</td>\n",
       "      <td>central_nervous_system</td>\n",
       "      <td>CNS:Glioma</td>\n",
       "      <td>GI1_CENTRAL_NERVOUS_SYSTEM</td>\n",
       "      <td>True</td>\n",
       "    </tr>\n",
       "    <tr>\n",
       "      <th>4</th>\n",
       "      <td>mdamb468_breast</td>\n",
       "      <td>1.121</td>\n",
       "      <td>mdamb468</td>\n",
       "      <td>breast</td>\n",
       "      <td>Breast:Carcinoma</td>\n",
       "      <td>MDAMB468_BREAST</td>\n",
       "      <td>True</td>\n",
       "    </tr>\n",
       "  </tbody>\n",
       "</table>\n",
       "</div>"
      ],
      "text/plain": [
       "         CLEANNAME_PRIMARYSITE  ...  TP53_mut\n",
       "0  cas1_central_nervous_system  ...      True\n",
       "1              mdamb157_breast  ...      True\n",
       "2                   saos2_bone  ...     False\n",
       "3   gi1_central_nervous_system  ...      True\n",
       "4              mdamb468_breast  ...      True\n",
       "\n",
       "[5 rows x 7 columns]"
      ]
     },
     "execution_count": 18,
     "metadata": {
      "tags": []
     },
     "output_type": "execute_result"
    }
   ],
   "source": [
    "bcat_ataris[\"TP53_mut\"] = False\n",
    "bcat_ataris.loc[bcat_ataris.sample_id.isin(tp53_mut_samples), \"TP53_mut\"] = True\n",
    "bcat_ataris.head()"
   ]
  },
  {
   "cell_type": "code",
   "execution_count": null,
   "metadata": {
    "colab": {
     "base_uri": "https://localhost:8080/",
     "height": 306
    },
    "executionInfo": {
     "elapsed": 3342,
     "status": "ok",
     "timestamp": 1573434356116,
     "user": {
      "displayName": "Margaret Y. Paiva",
      "photoUrl": "",
      "userId": "06544974911748493519"
     },
     "user_tz": 300
    },
    "id": "_Be2F1L0_br0",
    "outputId": "63557bfe-051d-46f8-a4ec-4e5217fa51e7"
   },
   "outputs": [
    {
     "data": {
      "image/png": "[encoded data removed]",
      "text/plain": [
       "<Figure size 1080x360 with 1 Axes>"
      ]
     },
     "metadata": {
      "tags": []
     },
     "output_type": "display_data"
    }
   ],
   "source": [
    "# Color the cell lines based on whether it contains TP53 mutation or not.\n",
    "fig, ax = plt.subplots()\n",
    "fig.set_size_inches(15, 5)\n",
    "sns.barplot(x=np.arange(len(bcat_ataris)), y=\"SensitivityScore\", hue=\"TP53_mut\",\n",
    "            data=bcat_ataris, ax=ax, ci=None)\n",
    "ax.set_xticklabels([])\n",
    "ax.set_xticks([])\n",
    "\n",
    "for bar in ax.patches:\n",
    "    bar.set_width(1)"
   ]
  },
  {
   "cell_type": "markdown",
   "metadata": {
    "id": "PphKiAYY3kE7"
   },
   "source": [
    "Perform a Mann-Whitney U test comparing the sensitivity score distribution between the TP53 mutated cell lines vs TP53 wildtype cell lines."
   ]
  },
  {
   "cell_type": "code",
   "execution_count": null,
   "metadata": {
    "id": "u6Fvd2Ct3kE8"
   },
   "outputs": [],
   "source": [
    "mwu2, pval2 = mannwhitneyu(bcat_ataris.loc[bcat_ataris.TP53_mut, \"SensitivityScore\"],\n",
    "                         bcat_ataris.loc[~bcat_ataris.TP53_mut, \"SensitivityScore\"],\n",
    "                         alternative=\"two-sided\")"
   ]
  },
  {
   "cell_type": "code",
   "execution_count": null,
   "metadata": {
    "colab": {
     "base_uri": "https://localhost:8080/",
     "height": 35
    },
    "executionInfo": {
     "elapsed": 1381,
     "status": "ok",
     "timestamp": 1573434610379,
     "user": {
      "displayName": "Margaret Y. Paiva",
      "photoUrl": "",
      "userId": "06544974911748493519"
     },
     "user_tz": 300
    },
    "id": "FO-w4OSvAhQj",
    "outputId": "bbb2dd36-f16d-46eb-a12f-1715b5591a66"
   },
   "outputs": [
    {
     "name": "stdout",
     "output_type": "stream",
     "text": [
      "P value:  2.3283069712299568e-31\n"
     ]
    }
   ],
   "source": [
    "print(\"P value: \", pval2)"
   ]
  },
  {
   "cell_type": "markdown",
   "metadata": {
    "id": "cY8yfkNJ3kE_"
   },
   "source": [
    "TP53 mutation is strongly correlated with cellline sensitivity to MDM2 inhibition (more inhibition when TP53 is not mutated). The P value is much lower, which is statistically significant (way less than 0.05). The P value is 2.3283069712299568e-31.\n",
    "\n",
    "TP53 is responsible to arresting/stopping cell cycle progression. MDM2 is an E3 ubiquitin ligase that is specific to p53 protein (encoded by TP53 gene), which means that MDM2 degrades/blocks p53. TP53 mutation makes p53 protein resistant/not sensitive to MDM2 degradation/inhibition. Thus, the cell line sensitivity to MDM2 inhibition is correlated with whether TP53 has mutated. "
   ]
  }
 ],
 "metadata": {
  "colab": {
   "collapsed_sections": [],
   "name": "HW3_Margaret.ipynb",
   "provenance": []
  },
  "kernelspec": {
   "display_name": "Python 3",
   "language": "python",
   "name": "python3"
  },
  "language_info": {
   "codemirror_mode": {
    "name": "ipython",
    "version": 3
   },
   "file_extension": ".py",
   "mimetype": "text/x-python",
   "name": "python",
   "nbconvert_exporter": "python",
   "pygments_lexer": "ipython3",
   "version": "3.7.4"
  }
 },
 "nbformat": 4,
 "nbformat_minor": 1
}
